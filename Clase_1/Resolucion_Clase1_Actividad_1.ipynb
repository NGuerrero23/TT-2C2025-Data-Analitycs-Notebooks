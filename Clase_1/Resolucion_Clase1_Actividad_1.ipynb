{
  "nbformat": 4,
  "nbformat_minor": 0,
  "metadata": {
    "colab": {
      "provenance": []
    },
    "kernelspec": {
      "name": "python3",
      "display_name": "Python 3"
    },
    "language_info": {
      "name": "python"
    }
  },
  "cells": [
    {
      "cell_type": "markdown",
      "source": [
        "# Ejercicios de la Actividad 1:"
      ],
      "metadata": {
        "id": "gCJoH7KuEUga"
      }
    },
    {
      "cell_type": "markdown",
      "source": [
        "## Ejercicio 1"
      ],
      "metadata": {
        "id": "NHa-sP3zJ8Db"
      }
    },
    {
      "cell_type": "markdown",
      "source": [
        "  Creá tu propio bloque de texto. Utiliza:\n",
        "  - formatos de texto\n",
        "  - links\n",
        "  - al menos una imagen de tu carpeta Drive"
      ],
      "metadata": {
        "id": "ZlSXlWj4KAZZ"
      }
    },
    {
      "cell_type": "markdown",
      "source": [
        "## Respuesta del Ejercicio 1\n"
      ],
      "metadata": {
        "id": "rlJRNAySsoBg"
      }
    },
    {
      "cell_type": "markdown",
      "source": [
        "Para completar esta actividad escribiré una `receta para omellettes`. Yo tiendo a personalizar mis omellette, aún sabiendo que hay recetas bien valoradas en internet como, por ejemplo, las que especifico en la siguiente lista:\n",
        "- [Paulina cocina](https://www.paulinacocina.net/omelette-de-huevo-perfecto-todo-lo-que-tenes-que-saber/20546)\n",
        "- [Gi_V de Cookpad](https://cookpad.com/ar/recetas/24940448?ref=search&search_term=omelette)\n",
        "- [Cravings Journal](https://es.cravingsjournal.com/omelette/)\n",
        "\n",
        "Los ingredientes para 1 omellette de mi versión, simple pero efectiva, son:\n",
        "- 2 huevos\n",
        "- 15ml de leche (1 cucharada sopera)\n",
        "- 75gr de queso cremoso\n",
        "- 50gr de jamon cocido\n",
        "- Pimienta\n",
        "- Orégano\n",
        "\n",
        "Instrucciones:\n",
        "1. Para empezar *rompemos* los huevos dentro de una taza e *incorporamos* la leche, con pimienta y orégano a gusto.\n",
        "2. *Batimos* con la ayuda de un tenedor, solo lo necesario para que las cosas se mezclen.\n",
        "3. *Ponemos a calentar* a **fuego mínimo** una sartén con antiadherente en su superficie.\n",
        "4. *Tiramos* la mezcla en la sartén, inclinandola hacia los lados para cubrir toda la superficie y que el omellette quede *bien redondo*.\n",
        "5. Cuando el huevo se vea brilloso pero ya no se mueva como un líquido, sino como una gelatina, le *agregamos* el queso y el jamón de la forma más uniforme posible y *cerramos* el omellette.\n",
        "6. Al ver que el queso se derritió y quiere escapar del omellete, ya está listo para su consumo. **Apagamos el fuego** y *servimos* en un plato.\n",
        "\n",
        "<img src=\"https://drive.google.com/uc?id=1y831WgORQdiCaxi5GYTCmtarM5jFFIKt\">\n",
        "\n",
        "Espero que esta receta sea de su agrado o, al menos, que sirva para aprobar la consigna."
      ],
      "metadata": {
        "id": "VV2ZnTVysufX"
      }
    },
    {
      "cell_type": "markdown",
      "source": [
        "## Ejercicio 2"
      ],
      "metadata": {
        "id": "LTFeKV5uKDPK"
      }
    },
    {
      "cell_type": "markdown",
      "source": [
        "Creá un bloque de código con un programa que pida un número por teclado, y responda si es par o impar. Ejecutalo."
      ],
      "metadata": {
        "id": "NfVvRVxMKUu8"
      }
    },
    {
      "cell_type": "markdown",
      "source": [
        "## Respuesta del Ejercicio 2"
      ],
      "metadata": {
        "id": "DQ5Z5cZQ1-dO"
      }
    },
    {
      "cell_type": "code",
      "source": [
        "print('Programa de clasificación de números: \\nPar o Impar \\n')\n",
        "a = int(input('Especifique un número entero: '))\n",
        "\n",
        "if a%2==0:\n",
        "  print(f'{a}, es PAR')\n",
        "else:\n",
        "  print(f'{a}, es IMPAR')"
      ],
      "metadata": {
        "id": "hq0R1IcE2EzN",
        "outputId": "d535cbcb-edfb-4165-c9fa-894f1ec65452",
        "colab": {
          "base_uri": "https://localhost:8080/"
        }
      },
      "execution_count": 1,
      "outputs": [
        {
          "output_type": "stream",
          "name": "stdout",
          "text": [
            "Programa de clasificación de números: \n",
            "Par o Impar \n",
            "\n",
            "Especifique un número entero: 6\n",
            "6, es PAR\n"
          ]
        }
      ]
    }
  ]
}
