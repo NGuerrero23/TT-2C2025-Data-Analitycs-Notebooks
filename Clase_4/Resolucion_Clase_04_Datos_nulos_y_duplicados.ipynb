{
  "nbformat": 4,
  "nbformat_minor": 0,
  "metadata": {
    "colab": {
      "provenance": [],
      "collapsed_sections": [
        "HUw9s4PNlhQu"
      ],
      "include_colab_link": true
    },
    "kernelspec": {
      "name": "python3",
      "display_name": "Python 3"
    },
    "language_info": {
      "name": "python"
    }
  },
  "cells": [
    {
      "cell_type": "markdown",
      "metadata": {
        "id": "view-in-github",
        "colab_type": "text"
      },
      "source": [
        "<a href=\"https://colab.research.google.com/github/NGuerrero23/TT-2C2025-Data-Analitycs-Notebooks/blob/main/Clase_4/Resolucion_Clase_04_Datos_nulos_y_duplicados.ipynb\" target=\"_parent\"><img src=\"https://colab.research.google.com/assets/colab-badge.svg\" alt=\"Open In Colab\"/></a>"
      ]
    },
    {
      "cell_type": "markdown",
      "source": [
        "# Datos Nulos y Duplicados\n",
        "**Objetivo:**\n",
        "* Familiarizarse con la identificación de valores nulos en un DataFrame.\n",
        "* Reconocer y contar duplicados en un conjunto de datos.\n"
      ],
      "metadata": {
        "id": "Midzhc9WLszm"
      }
    },
    {
      "cell_type": "markdown",
      "source": [
        "# Datos Nulos"
      ],
      "metadata": {
        "id": "aYgJs3sPLn2u"
      }
    },
    {
      "cell_type": "markdown",
      "source": [
        "\n",
        "\n",
        "\n",
        "**Instrucciones:**\n",
        "\n",
        "1. Descargar el siguiente conjunto de datos: [satis_clientes.csv](https://drive.google.com/file/d/169MG1sSG8IqTtLdJwIlnBOhMkF_CN_Tb/view?usp=drive_link).\n",
        "2. Cargar los datos en un DataFrame en Python usando Pandas.\n",
        "Utilizar el método `isnull()` para identificar las filas con datos faltantes y contar el número de valores nulos por columna.\n",
        "3. Usar el método `duplicated()` para identificar las filas duplicadas y contar cuántas filas duplicadas hay en total.\n",
        "4. Crear un informe que incluya:\n",
        "  * La cantidad total de registros en el DataFrame.\n",
        "  * La cantidad total de valores nulos por columna.\n",
        "  * La cantidad de filas duplicadas.\n",
        "  * Un subconjunto de los registros duplicados para que se vea el contenido.  \n",
        "\n"
      ],
      "metadata": {
        "id": "d3pONncOMcCT"
      }
    },
    {
      "cell_type": "markdown",
      "source": [
        "## Ver en documentación oficial\n",
        "\n",
        "[Pandas Working with missing data](https://pandas.pydata.org/docs/user_guide/missing_data.html)\n",
        "[NumPy Data Types](https://numpy.org/doc/2.3/user/basics.types.html)"
      ],
      "metadata": {
        "id": "w6sEYVLfkw49"
      }
    },
    {
      "cell_type": "markdown",
      "source": [
        "**Sobre NULL**\n",
        "\n",
        "* NULL es la representación en bases de datos SQL.\n",
        "* Cuando importás datos a pandas (ej: con pd.read_sql o pd.read_csv), esos NULL se convierten en NaN o NaT dentro de pandas.\n",
        "* En pandas casi siempre vas a ver NaN (nulos numéricos/objetos) o NaT (nulos de tiempo).\n",
        "* No vas a ver NULL directamente, salvo en la base de datos antes de importar."
      ],
      "metadata": {
        "id": "4mH-dVrdmMvd"
      }
    },
    {
      "cell_type": "markdown",
      "source": [
        "## Veamos algunos comandos antes de comenzar\n",
        "De forma similar a numpy, pandas también tiene algunas funciones útiles para identificar y detectar valores nulos."
      ],
      "metadata": {
        "id": "9BcLRj-bPBBl"
      }
    },
    {
      "cell_type": "code",
      "source": [
        "import numpy as np\n",
        "import pandas as pd"
      ],
      "metadata": {
        "id": "hILR-zpVPasg"
      },
      "execution_count": null,
      "outputs": []
    },
    {
      "cell_type": "markdown",
      "source": [
        "La función pd.isnulll() detecta valores nulos (como NaN, None, etc.) y devuelve True si el valor es nulo, o False si no lo es."
      ],
      "metadata": {
        "id": "uD070jn8P4m8"
      }
    },
    {
      "cell_type": "code",
      "source": [
        "pd.isnull(np.nan)"
      ],
      "metadata": {
        "id": "2qWT_RRRPEkW"
      },
      "execution_count": null,
      "outputs": []
    },
    {
      "cell_type": "code",
      "source": [
        "pd.isnull(None)"
      ],
      "metadata": {
        "id": "RCNlLEtGPPnu",
        "colab": {
          "base_uri": "https://localhost:8080/"
        },
        "outputId": "18947842-51e5-4475-b532-8a83772142ef"
      },
      "execution_count": null,
      "outputs": [
        {
          "output_type": "execute_result",
          "data": {
            "text/plain": [
              "True"
            ]
          },
          "metadata": {},
          "execution_count": 3
        }
      ]
    },
    {
      "cell_type": "markdown",
      "source": [
        "La función pd.isna() en pandas se utiliza para detectar valores nulos (missing values) en objetos, como NaN, None, etc."
      ],
      "metadata": {
        "id": "fe2N_TIHPmoI"
      }
    },
    {
      "cell_type": "code",
      "source": [
        "pd.isna(np.nan)"
      ],
      "metadata": {
        "id": "Cr2jZGhDPQuC",
        "colab": {
          "base_uri": "https://localhost:8080/"
        },
        "outputId": "a6950a4d-cad4-4afe-f3cd-48257515f778"
      },
      "execution_count": null,
      "outputs": [
        {
          "output_type": "execute_result",
          "data": {
            "text/plain": [
              "True"
            ]
          },
          "metadata": {},
          "execution_count": 4
        }
      ]
    },
    {
      "cell_type": "code",
      "source": [
        "pd.isna(None)"
      ],
      "metadata": {
        "id": "AyBGqmTlPRka"
      },
      "execution_count": null,
      "outputs": []
    },
    {
      "cell_type": "markdown",
      "source": [
        "También podemos usarlo con Series"
      ],
      "metadata": {
        "id": "r1gbnAASQOop"
      }
    },
    {
      "cell_type": "code",
      "source": [
        "pd.isnull(pd.Series([1, np.nan, 7]))"
      ],
      "metadata": {
        "id": "jsXsHkpuQNTy",
        "colab": {
          "base_uri": "https://localhost:8080/",
          "height": 178
        },
        "outputId": "9c76997a-edd7-49b4-8df9-6b9e91c769a7"
      },
      "execution_count": null,
      "outputs": [
        {
          "output_type": "execute_result",
          "data": {
            "text/plain": [
              "0    False\n",
              "1     True\n",
              "2    False\n",
              "dtype: bool"
            ],
            "text/html": [
              "<div>\n",
              "<style scoped>\n",
              "    .dataframe tbody tr th:only-of-type {\n",
              "        vertical-align: middle;\n",
              "    }\n",
              "\n",
              "    .dataframe tbody tr th {\n",
              "        vertical-align: top;\n",
              "    }\n",
              "\n",
              "    .dataframe thead th {\n",
              "        text-align: right;\n",
              "    }\n",
              "</style>\n",
              "<table border=\"1\" class=\"dataframe\">\n",
              "  <thead>\n",
              "    <tr style=\"text-align: right;\">\n",
              "      <th></th>\n",
              "      <th>0</th>\n",
              "    </tr>\n",
              "  </thead>\n",
              "  <tbody>\n",
              "    <tr>\n",
              "      <th>0</th>\n",
              "      <td>False</td>\n",
              "    </tr>\n",
              "    <tr>\n",
              "      <th>1</th>\n",
              "      <td>True</td>\n",
              "    </tr>\n",
              "    <tr>\n",
              "      <th>2</th>\n",
              "      <td>False</td>\n",
              "    </tr>\n",
              "  </tbody>\n",
              "</table>\n",
              "</div><br><label><b>dtype:</b> bool</label>"
            ]
          },
          "metadata": {},
          "execution_count": 6
        }
      ]
    },
    {
      "cell_type": "markdown",
      "source": [
        "O incluso con Dataframes"
      ],
      "metadata": {
        "id": "d6nr2WiVQR1I"
      }
    },
    {
      "cell_type": "code",
      "source": [
        "pd.isnull(pd.DataFrame({\n",
        "    'Column A': [1, np.nan, 7],\n",
        "    'Column B': [np.nan, 2, 3],\n",
        "    'Column C': [np.nan, 2, np.nan]\n",
        "}))"
      ],
      "metadata": {
        "id": "2fPOD0hZQTwb",
        "colab": {
          "base_uri": "https://localhost:8080/",
          "height": 143
        },
        "outputId": "6623ea23-46c4-4da0-ff54-f0ac57e3880e"
      },
      "execution_count": null,
      "outputs": [
        {
          "output_type": "execute_result",
          "data": {
            "text/plain": [
              "   Column A  Column B  Column C\n",
              "0     False      True      True\n",
              "1      True     False     False\n",
              "2     False     False      True"
            ],
            "text/html": [
              "\n",
              "  <div id=\"df-ee8e13cc-601f-4f12-917c-c6e5ab6e38df\" class=\"colab-df-container\">\n",
              "    <div>\n",
              "<style scoped>\n",
              "    .dataframe tbody tr th:only-of-type {\n",
              "        vertical-align: middle;\n",
              "    }\n",
              "\n",
              "    .dataframe tbody tr th {\n",
              "        vertical-align: top;\n",
              "    }\n",
              "\n",
              "    .dataframe thead th {\n",
              "        text-align: right;\n",
              "    }\n",
              "</style>\n",
              "<table border=\"1\" class=\"dataframe\">\n",
              "  <thead>\n",
              "    <tr style=\"text-align: right;\">\n",
              "      <th></th>\n",
              "      <th>Column A</th>\n",
              "      <th>Column B</th>\n",
              "      <th>Column C</th>\n",
              "    </tr>\n",
              "  </thead>\n",
              "  <tbody>\n",
              "    <tr>\n",
              "      <th>0</th>\n",
              "      <td>False</td>\n",
              "      <td>True</td>\n",
              "      <td>True</td>\n",
              "    </tr>\n",
              "    <tr>\n",
              "      <th>1</th>\n",
              "      <td>True</td>\n",
              "      <td>False</td>\n",
              "      <td>False</td>\n",
              "    </tr>\n",
              "    <tr>\n",
              "      <th>2</th>\n",
              "      <td>False</td>\n",
              "      <td>False</td>\n",
              "      <td>True</td>\n",
              "    </tr>\n",
              "  </tbody>\n",
              "</table>\n",
              "</div>\n",
              "    <div class=\"colab-df-buttons\">\n",
              "\n",
              "  <div class=\"colab-df-container\">\n",
              "    <button class=\"colab-df-convert\" onclick=\"convertToInteractive('df-ee8e13cc-601f-4f12-917c-c6e5ab6e38df')\"\n",
              "            title=\"Convert this dataframe to an interactive table.\"\n",
              "            style=\"display:none;\">\n",
              "\n",
              "  <svg xmlns=\"http://www.w3.org/2000/svg\" height=\"24px\" viewBox=\"0 -960 960 960\">\n",
              "    <path d=\"M120-120v-720h720v720H120Zm60-500h600v-160H180v160Zm220 220h160v-160H400v160Zm0 220h160v-160H400v160ZM180-400h160v-160H180v160Zm440 0h160v-160H620v160ZM180-180h160v-160H180v160Zm440 0h160v-160H620v160Z\"/>\n",
              "  </svg>\n",
              "    </button>\n",
              "\n",
              "  <style>\n",
              "    .colab-df-container {\n",
              "      display:flex;\n",
              "      gap: 12px;\n",
              "    }\n",
              "\n",
              "    .colab-df-convert {\n",
              "      background-color: #E8F0FE;\n",
              "      border: none;\n",
              "      border-radius: 50%;\n",
              "      cursor: pointer;\n",
              "      display: none;\n",
              "      fill: #1967D2;\n",
              "      height: 32px;\n",
              "      padding: 0 0 0 0;\n",
              "      width: 32px;\n",
              "    }\n",
              "\n",
              "    .colab-df-convert:hover {\n",
              "      background-color: #E2EBFA;\n",
              "      box-shadow: 0px 1px 2px rgba(60, 64, 67, 0.3), 0px 1px 3px 1px rgba(60, 64, 67, 0.15);\n",
              "      fill: #174EA6;\n",
              "    }\n",
              "\n",
              "    .colab-df-buttons div {\n",
              "      margin-bottom: 4px;\n",
              "    }\n",
              "\n",
              "    [theme=dark] .colab-df-convert {\n",
              "      background-color: #3B4455;\n",
              "      fill: #D2E3FC;\n",
              "    }\n",
              "\n",
              "    [theme=dark] .colab-df-convert:hover {\n",
              "      background-color: #434B5C;\n",
              "      box-shadow: 0px 1px 3px 1px rgba(0, 0, 0, 0.15);\n",
              "      filter: drop-shadow(0px 1px 2px rgba(0, 0, 0, 0.3));\n",
              "      fill: #FFFFFF;\n",
              "    }\n",
              "  </style>\n",
              "\n",
              "    <script>\n",
              "      const buttonEl =\n",
              "        document.querySelector('#df-ee8e13cc-601f-4f12-917c-c6e5ab6e38df button.colab-df-convert');\n",
              "      buttonEl.style.display =\n",
              "        google.colab.kernel.accessAllowed ? 'block' : 'none';\n",
              "\n",
              "      async function convertToInteractive(key) {\n",
              "        const element = document.querySelector('#df-ee8e13cc-601f-4f12-917c-c6e5ab6e38df');\n",
              "        const dataTable =\n",
              "          await google.colab.kernel.invokeFunction('convertToInteractive',\n",
              "                                                    [key], {});\n",
              "        if (!dataTable) return;\n",
              "\n",
              "        const docLinkHtml = 'Like what you see? Visit the ' +\n",
              "          '<a target=\"_blank\" href=https://colab.research.google.com/notebooks/data_table.ipynb>data table notebook</a>'\n",
              "          + ' to learn more about interactive tables.';\n",
              "        element.innerHTML = '';\n",
              "        dataTable['output_type'] = 'display_data';\n",
              "        await google.colab.output.renderOutput(dataTable, element);\n",
              "        const docLink = document.createElement('div');\n",
              "        docLink.innerHTML = docLinkHtml;\n",
              "        element.appendChild(docLink);\n",
              "      }\n",
              "    </script>\n",
              "  </div>\n",
              "\n",
              "\n",
              "    <div id=\"df-c4e051b0-a644-4593-a7ea-b188daf2da52\">\n",
              "      <button class=\"colab-df-quickchart\" onclick=\"quickchart('df-c4e051b0-a644-4593-a7ea-b188daf2da52')\"\n",
              "                title=\"Suggest charts\"\n",
              "                style=\"display:none;\">\n",
              "\n",
              "<svg xmlns=\"http://www.w3.org/2000/svg\" height=\"24px\"viewBox=\"0 0 24 24\"\n",
              "     width=\"24px\">\n",
              "    <g>\n",
              "        <path d=\"M19 3H5c-1.1 0-2 .9-2 2v14c0 1.1.9 2 2 2h14c1.1 0 2-.9 2-2V5c0-1.1-.9-2-2-2zM9 17H7v-7h2v7zm4 0h-2V7h2v10zm4 0h-2v-4h2v4z\"/>\n",
              "    </g>\n",
              "</svg>\n",
              "      </button>\n",
              "\n",
              "<style>\n",
              "  .colab-df-quickchart {\n",
              "      --bg-color: #E8F0FE;\n",
              "      --fill-color: #1967D2;\n",
              "      --hover-bg-color: #E2EBFA;\n",
              "      --hover-fill-color: #174EA6;\n",
              "      --disabled-fill-color: #AAA;\n",
              "      --disabled-bg-color: #DDD;\n",
              "  }\n",
              "\n",
              "  [theme=dark] .colab-df-quickchart {\n",
              "      --bg-color: #3B4455;\n",
              "      --fill-color: #D2E3FC;\n",
              "      --hover-bg-color: #434B5C;\n",
              "      --hover-fill-color: #FFFFFF;\n",
              "      --disabled-bg-color: #3B4455;\n",
              "      --disabled-fill-color: #666;\n",
              "  }\n",
              "\n",
              "  .colab-df-quickchart {\n",
              "    background-color: var(--bg-color);\n",
              "    border: none;\n",
              "    border-radius: 50%;\n",
              "    cursor: pointer;\n",
              "    display: none;\n",
              "    fill: var(--fill-color);\n",
              "    height: 32px;\n",
              "    padding: 0;\n",
              "    width: 32px;\n",
              "  }\n",
              "\n",
              "  .colab-df-quickchart:hover {\n",
              "    background-color: var(--hover-bg-color);\n",
              "    box-shadow: 0 1px 2px rgba(60, 64, 67, 0.3), 0 1px 3px 1px rgba(60, 64, 67, 0.15);\n",
              "    fill: var(--button-hover-fill-color);\n",
              "  }\n",
              "\n",
              "  .colab-df-quickchart-complete:disabled,\n",
              "  .colab-df-quickchart-complete:disabled:hover {\n",
              "    background-color: var(--disabled-bg-color);\n",
              "    fill: var(--disabled-fill-color);\n",
              "    box-shadow: none;\n",
              "  }\n",
              "\n",
              "  .colab-df-spinner {\n",
              "    border: 2px solid var(--fill-color);\n",
              "    border-color: transparent;\n",
              "    border-bottom-color: var(--fill-color);\n",
              "    animation:\n",
              "      spin 1s steps(1) infinite;\n",
              "  }\n",
              "\n",
              "  @keyframes spin {\n",
              "    0% {\n",
              "      border-color: transparent;\n",
              "      border-bottom-color: var(--fill-color);\n",
              "      border-left-color: var(--fill-color);\n",
              "    }\n",
              "    20% {\n",
              "      border-color: transparent;\n",
              "      border-left-color: var(--fill-color);\n",
              "      border-top-color: var(--fill-color);\n",
              "    }\n",
              "    30% {\n",
              "      border-color: transparent;\n",
              "      border-left-color: var(--fill-color);\n",
              "      border-top-color: var(--fill-color);\n",
              "      border-right-color: var(--fill-color);\n",
              "    }\n",
              "    40% {\n",
              "      border-color: transparent;\n",
              "      border-right-color: var(--fill-color);\n",
              "      border-top-color: var(--fill-color);\n",
              "    }\n",
              "    60% {\n",
              "      border-color: transparent;\n",
              "      border-right-color: var(--fill-color);\n",
              "    }\n",
              "    80% {\n",
              "      border-color: transparent;\n",
              "      border-right-color: var(--fill-color);\n",
              "      border-bottom-color: var(--fill-color);\n",
              "    }\n",
              "    90% {\n",
              "      border-color: transparent;\n",
              "      border-bottom-color: var(--fill-color);\n",
              "    }\n",
              "  }\n",
              "</style>\n",
              "\n",
              "      <script>\n",
              "        async function quickchart(key) {\n",
              "          const quickchartButtonEl =\n",
              "            document.querySelector('#' + key + ' button');\n",
              "          quickchartButtonEl.disabled = true;  // To prevent multiple clicks.\n",
              "          quickchartButtonEl.classList.add('colab-df-spinner');\n",
              "          try {\n",
              "            const charts = await google.colab.kernel.invokeFunction(\n",
              "                'suggestCharts', [key], {});\n",
              "          } catch (error) {\n",
              "            console.error('Error during call to suggestCharts:', error);\n",
              "          }\n",
              "          quickchartButtonEl.classList.remove('colab-df-spinner');\n",
              "          quickchartButtonEl.classList.add('colab-df-quickchart-complete');\n",
              "        }\n",
              "        (() => {\n",
              "          let quickchartButtonEl =\n",
              "            document.querySelector('#df-c4e051b0-a644-4593-a7ea-b188daf2da52 button');\n",
              "          quickchartButtonEl.style.display =\n",
              "            google.colab.kernel.accessAllowed ? 'block' : 'none';\n",
              "        })();\n",
              "      </script>\n",
              "    </div>\n",
              "\n",
              "    </div>\n",
              "  </div>\n"
            ],
            "application/vnd.google.colaboratory.intrinsic+json": {
              "type": "dataframe",
              "summary": "{\n  \"name\": \"}))\",\n  \"rows\": 3,\n  \"fields\": [\n    {\n      \"column\": \"Column A\",\n      \"properties\": {\n        \"dtype\": \"boolean\",\n        \"num_unique_values\": 2,\n        \"samples\": [\n          true,\n          false\n        ],\n        \"semantic_type\": \"\",\n        \"description\": \"\"\n      }\n    },\n    {\n      \"column\": \"Column B\",\n      \"properties\": {\n        \"dtype\": \"boolean\",\n        \"num_unique_values\": 2,\n        \"samples\": [\n          false,\n          true\n        ],\n        \"semantic_type\": \"\",\n        \"description\": \"\"\n      }\n    },\n    {\n      \"column\": \"Column C\",\n      \"properties\": {\n        \"dtype\": \"boolean\",\n        \"num_unique_values\": 2,\n        \"samples\": [\n          false,\n          true\n        ],\n        \"semantic_type\": \"\",\n        \"description\": \"\"\n      }\n    }\n  ]\n}"
            }
          },
          "metadata": {},
          "execution_count": 13
        }
      ]
    },
    {
      "cell_type": "markdown",
      "source": [
        "## Veamos con un caso mas complejo"
      ],
      "metadata": {
        "id": "vGbFuxupQcv1"
      }
    },
    {
      "cell_type": "code",
      "source": [
        "# Al ejecutar este bloque, Google nos solicitará los permisos\n",
        "from google.colab import drive\n",
        "drive.mount('/content/drive')"
      ],
      "metadata": {
        "id": "GnYwfiMkUwj6",
        "colab": {
          "base_uri": "https://localhost:8080/"
        },
        "outputId": "0a78085f-61e6-4c68-8ec0-710e1d421bf9"
      },
      "execution_count": null,
      "outputs": [
        {
          "output_type": "stream",
          "name": "stdout",
          "text": [
            "Mounted at /content/drive\n"
          ]
        }
      ]
    },
    {
      "cell_type": "code",
      "source": [
        "#Para facilitar las tareas, podemos cambiar la ruta de trabajo con el método chdir() de la librería os de python.\n",
        "import os\n",
        "os.chdir('/content/drive/MyDrive/Colab_Notebooks/datasets')\n",
        "# os.chdir('/content/drive/My Drive/{mi ruta de carpetas}')\n",
        "!ls # muestra el contenido de la carpeta"
      ],
      "metadata": {
        "id": "3a975dhtUr54",
        "colab": {
          "base_uri": "https://localhost:8080/"
        },
        "outputId": "518a5e1c-6d79-4188-c27d-7e73faeeddb8"
      },
      "execution_count": null,
      "outputs": [
        {
          "output_type": "stream",
          "name": "stdout",
          "text": [
            "booking_db_nulls.sqlite  hotels.csv\tnetflix_titles.csv  satis_clientes.csv\n",
            "booking_db.sqlite\t hotels.gsheet\treviews.csv\t    users.csv\n"
          ]
        }
      ]
    },
    {
      "cell_type": "code",
      "execution_count": null,
      "metadata": {
        "id": "KGHTTWmaMbWG",
        "colab": {
          "base_uri": "https://localhost:8080/",
          "height": 300
        },
        "outputId": "63783722-8ecc-42a6-be28-7ffc17da5da2"
      },
      "outputs": [
        {
          "output_type": "execute_result",
          "data": {
            "text/plain": [
              "   id            Empresa       Fecha  Calificación  \\\n",
              "0   1     Mitchell Group  11/12/2024           1.0   \n",
              "1   2           Kuhn-Fay  25/01/2024           4.0   \n",
              "2   3         Moen-Blick  11/11/2024           3.0   \n",
              "3   4      McDermott Inc  01/12/2024           1.0   \n",
              "4   5        Keebler Inc  12/01/2024           4.0   \n",
              "5   6      Dickinson Inc  30/04/2024           1.0   \n",
              "6   7      Moen-Hartmann  11/03/2024           NaN   \n",
              "7   8  Lubowitz and Sons  27/01/2024           NaN   \n",
              "\n",
              "                                         Comentarios  \n",
              "0  Integer ac leo. Pellentesque ultrices mattis o...  \n",
              "1  Vestibulum ac est lacinia nisi venenatis trist...  \n",
              "2  Aliquam quis turpis eget elit sodales sceleris...  \n",
              "3                                                NaN  \n",
              "4  Integer ac leo. Pellentesque ultrices mattis o...  \n",
              "5  Phasellus in felis. Donec semper sapien a libe...  \n",
              "6                                                NaN  \n",
              "7  Donec diam neque, vestibulum eget, vulputate u...  "
            ],
            "text/html": [
              "\n",
              "  <div id=\"df-d45140c5-fdca-4d65-ac3b-f26d53eb37a6\" class=\"colab-df-container\">\n",
              "    <div>\n",
              "<style scoped>\n",
              "    .dataframe tbody tr th:only-of-type {\n",
              "        vertical-align: middle;\n",
              "    }\n",
              "\n",
              "    .dataframe tbody tr th {\n",
              "        vertical-align: top;\n",
              "    }\n",
              "\n",
              "    .dataframe thead th {\n",
              "        text-align: right;\n",
              "    }\n",
              "</style>\n",
              "<table border=\"1\" class=\"dataframe\">\n",
              "  <thead>\n",
              "    <tr style=\"text-align: right;\">\n",
              "      <th></th>\n",
              "      <th>id</th>\n",
              "      <th>Empresa</th>\n",
              "      <th>Fecha</th>\n",
              "      <th>Calificación</th>\n",
              "      <th>Comentarios</th>\n",
              "    </tr>\n",
              "  </thead>\n",
              "  <tbody>\n",
              "    <tr>\n",
              "      <th>0</th>\n",
              "      <td>1</td>\n",
              "      <td>Mitchell Group</td>\n",
              "      <td>11/12/2024</td>\n",
              "      <td>1.0</td>\n",
              "      <td>Integer ac leo. Pellentesque ultrices mattis o...</td>\n",
              "    </tr>\n",
              "    <tr>\n",
              "      <th>1</th>\n",
              "      <td>2</td>\n",
              "      <td>Kuhn-Fay</td>\n",
              "      <td>25/01/2024</td>\n",
              "      <td>4.0</td>\n",
              "      <td>Vestibulum ac est lacinia nisi venenatis trist...</td>\n",
              "    </tr>\n",
              "    <tr>\n",
              "      <th>2</th>\n",
              "      <td>3</td>\n",
              "      <td>Moen-Blick</td>\n",
              "      <td>11/11/2024</td>\n",
              "      <td>3.0</td>\n",
              "      <td>Aliquam quis turpis eget elit sodales sceleris...</td>\n",
              "    </tr>\n",
              "    <tr>\n",
              "      <th>3</th>\n",
              "      <td>4</td>\n",
              "      <td>McDermott Inc</td>\n",
              "      <td>01/12/2024</td>\n",
              "      <td>1.0</td>\n",
              "      <td>NaN</td>\n",
              "    </tr>\n",
              "    <tr>\n",
              "      <th>4</th>\n",
              "      <td>5</td>\n",
              "      <td>Keebler Inc</td>\n",
              "      <td>12/01/2024</td>\n",
              "      <td>4.0</td>\n",
              "      <td>Integer ac leo. Pellentesque ultrices mattis o...</td>\n",
              "    </tr>\n",
              "    <tr>\n",
              "      <th>5</th>\n",
              "      <td>6</td>\n",
              "      <td>Dickinson Inc</td>\n",
              "      <td>30/04/2024</td>\n",
              "      <td>1.0</td>\n",
              "      <td>Phasellus in felis. Donec semper sapien a libe...</td>\n",
              "    </tr>\n",
              "    <tr>\n",
              "      <th>6</th>\n",
              "      <td>7</td>\n",
              "      <td>Moen-Hartmann</td>\n",
              "      <td>11/03/2024</td>\n",
              "      <td>NaN</td>\n",
              "      <td>NaN</td>\n",
              "    </tr>\n",
              "    <tr>\n",
              "      <th>7</th>\n",
              "      <td>8</td>\n",
              "      <td>Lubowitz and Sons</td>\n",
              "      <td>27/01/2024</td>\n",
              "      <td>NaN</td>\n",
              "      <td>Donec diam neque, vestibulum eget, vulputate u...</td>\n",
              "    </tr>\n",
              "  </tbody>\n",
              "</table>\n",
              "</div>\n",
              "    <div class=\"colab-df-buttons\">\n",
              "\n",
              "  <div class=\"colab-df-container\">\n",
              "    <button class=\"colab-df-convert\" onclick=\"convertToInteractive('df-d45140c5-fdca-4d65-ac3b-f26d53eb37a6')\"\n",
              "            title=\"Convert this dataframe to an interactive table.\"\n",
              "            style=\"display:none;\">\n",
              "\n",
              "  <svg xmlns=\"http://www.w3.org/2000/svg\" height=\"24px\" viewBox=\"0 -960 960 960\">\n",
              "    <path d=\"M120-120v-720h720v720H120Zm60-500h600v-160H180v160Zm220 220h160v-160H400v160Zm0 220h160v-160H400v160ZM180-400h160v-160H180v160Zm440 0h160v-160H620v160ZM180-180h160v-160H180v160Zm440 0h160v-160H620v160Z\"/>\n",
              "  </svg>\n",
              "    </button>\n",
              "\n",
              "  <style>\n",
              "    .colab-df-container {\n",
              "      display:flex;\n",
              "      gap: 12px;\n",
              "    }\n",
              "\n",
              "    .colab-df-convert {\n",
              "      background-color: #E8F0FE;\n",
              "      border: none;\n",
              "      border-radius: 50%;\n",
              "      cursor: pointer;\n",
              "      display: none;\n",
              "      fill: #1967D2;\n",
              "      height: 32px;\n",
              "      padding: 0 0 0 0;\n",
              "      width: 32px;\n",
              "    }\n",
              "\n",
              "    .colab-df-convert:hover {\n",
              "      background-color: #E2EBFA;\n",
              "      box-shadow: 0px 1px 2px rgba(60, 64, 67, 0.3), 0px 1px 3px 1px rgba(60, 64, 67, 0.15);\n",
              "      fill: #174EA6;\n",
              "    }\n",
              "\n",
              "    .colab-df-buttons div {\n",
              "      margin-bottom: 4px;\n",
              "    }\n",
              "\n",
              "    [theme=dark] .colab-df-convert {\n",
              "      background-color: #3B4455;\n",
              "      fill: #D2E3FC;\n",
              "    }\n",
              "\n",
              "    [theme=dark] .colab-df-convert:hover {\n",
              "      background-color: #434B5C;\n",
              "      box-shadow: 0px 1px 3px 1px rgba(0, 0, 0, 0.15);\n",
              "      filter: drop-shadow(0px 1px 2px rgba(0, 0, 0, 0.3));\n",
              "      fill: #FFFFFF;\n",
              "    }\n",
              "  </style>\n",
              "\n",
              "    <script>\n",
              "      const buttonEl =\n",
              "        document.querySelector('#df-d45140c5-fdca-4d65-ac3b-f26d53eb37a6 button.colab-df-convert');\n",
              "      buttonEl.style.display =\n",
              "        google.colab.kernel.accessAllowed ? 'block' : 'none';\n",
              "\n",
              "      async function convertToInteractive(key) {\n",
              "        const element = document.querySelector('#df-d45140c5-fdca-4d65-ac3b-f26d53eb37a6');\n",
              "        const dataTable =\n",
              "          await google.colab.kernel.invokeFunction('convertToInteractive',\n",
              "                                                    [key], {});\n",
              "        if (!dataTable) return;\n",
              "\n",
              "        const docLinkHtml = 'Like what you see? Visit the ' +\n",
              "          '<a target=\"_blank\" href=https://colab.research.google.com/notebooks/data_table.ipynb>data table notebook</a>'\n",
              "          + ' to learn more about interactive tables.';\n",
              "        element.innerHTML = '';\n",
              "        dataTable['output_type'] = 'display_data';\n",
              "        await google.colab.output.renderOutput(dataTable, element);\n",
              "        const docLink = document.createElement('div');\n",
              "        docLink.innerHTML = docLinkHtml;\n",
              "        element.appendChild(docLink);\n",
              "      }\n",
              "    </script>\n",
              "  </div>\n",
              "\n",
              "\n",
              "    <div id=\"df-74fbd923-9286-420f-94ce-09c10a2036a7\">\n",
              "      <button class=\"colab-df-quickchart\" onclick=\"quickchart('df-74fbd923-9286-420f-94ce-09c10a2036a7')\"\n",
              "                title=\"Suggest charts\"\n",
              "                style=\"display:none;\">\n",
              "\n",
              "<svg xmlns=\"http://www.w3.org/2000/svg\" height=\"24px\"viewBox=\"0 0 24 24\"\n",
              "     width=\"24px\">\n",
              "    <g>\n",
              "        <path d=\"M19 3H5c-1.1 0-2 .9-2 2v14c0 1.1.9 2 2 2h14c1.1 0 2-.9 2-2V5c0-1.1-.9-2-2-2zM9 17H7v-7h2v7zm4 0h-2V7h2v10zm4 0h-2v-4h2v4z\"/>\n",
              "    </g>\n",
              "</svg>\n",
              "      </button>\n",
              "\n",
              "<style>\n",
              "  .colab-df-quickchart {\n",
              "      --bg-color: #E8F0FE;\n",
              "      --fill-color: #1967D2;\n",
              "      --hover-bg-color: #E2EBFA;\n",
              "      --hover-fill-color: #174EA6;\n",
              "      --disabled-fill-color: #AAA;\n",
              "      --disabled-bg-color: #DDD;\n",
              "  }\n",
              "\n",
              "  [theme=dark] .colab-df-quickchart {\n",
              "      --bg-color: #3B4455;\n",
              "      --fill-color: #D2E3FC;\n",
              "      --hover-bg-color: #434B5C;\n",
              "      --hover-fill-color: #FFFFFF;\n",
              "      --disabled-bg-color: #3B4455;\n",
              "      --disabled-fill-color: #666;\n",
              "  }\n",
              "\n",
              "  .colab-df-quickchart {\n",
              "    background-color: var(--bg-color);\n",
              "    border: none;\n",
              "    border-radius: 50%;\n",
              "    cursor: pointer;\n",
              "    display: none;\n",
              "    fill: var(--fill-color);\n",
              "    height: 32px;\n",
              "    padding: 0;\n",
              "    width: 32px;\n",
              "  }\n",
              "\n",
              "  .colab-df-quickchart:hover {\n",
              "    background-color: var(--hover-bg-color);\n",
              "    box-shadow: 0 1px 2px rgba(60, 64, 67, 0.3), 0 1px 3px 1px rgba(60, 64, 67, 0.15);\n",
              "    fill: var(--button-hover-fill-color);\n",
              "  }\n",
              "\n",
              "  .colab-df-quickchart-complete:disabled,\n",
              "  .colab-df-quickchart-complete:disabled:hover {\n",
              "    background-color: var(--disabled-bg-color);\n",
              "    fill: var(--disabled-fill-color);\n",
              "    box-shadow: none;\n",
              "  }\n",
              "\n",
              "  .colab-df-spinner {\n",
              "    border: 2px solid var(--fill-color);\n",
              "    border-color: transparent;\n",
              "    border-bottom-color: var(--fill-color);\n",
              "    animation:\n",
              "      spin 1s steps(1) infinite;\n",
              "  }\n",
              "\n",
              "  @keyframes spin {\n",
              "    0% {\n",
              "      border-color: transparent;\n",
              "      border-bottom-color: var(--fill-color);\n",
              "      border-left-color: var(--fill-color);\n",
              "    }\n",
              "    20% {\n",
              "      border-color: transparent;\n",
              "      border-left-color: var(--fill-color);\n",
              "      border-top-color: var(--fill-color);\n",
              "    }\n",
              "    30% {\n",
              "      border-color: transparent;\n",
              "      border-left-color: var(--fill-color);\n",
              "      border-top-color: var(--fill-color);\n",
              "      border-right-color: var(--fill-color);\n",
              "    }\n",
              "    40% {\n",
              "      border-color: transparent;\n",
              "      border-right-color: var(--fill-color);\n",
              "      border-top-color: var(--fill-color);\n",
              "    }\n",
              "    60% {\n",
              "      border-color: transparent;\n",
              "      border-right-color: var(--fill-color);\n",
              "    }\n",
              "    80% {\n",
              "      border-color: transparent;\n",
              "      border-right-color: var(--fill-color);\n",
              "      border-bottom-color: var(--fill-color);\n",
              "    }\n",
              "    90% {\n",
              "      border-color: transparent;\n",
              "      border-bottom-color: var(--fill-color);\n",
              "    }\n",
              "  }\n",
              "</style>\n",
              "\n",
              "      <script>\n",
              "        async function quickchart(key) {\n",
              "          const quickchartButtonEl =\n",
              "            document.querySelector('#' + key + ' button');\n",
              "          quickchartButtonEl.disabled = true;  // To prevent multiple clicks.\n",
              "          quickchartButtonEl.classList.add('colab-df-spinner');\n",
              "          try {\n",
              "            const charts = await google.colab.kernel.invokeFunction(\n",
              "                'suggestCharts', [key], {});\n",
              "          } catch (error) {\n",
              "            console.error('Error during call to suggestCharts:', error);\n",
              "          }\n",
              "          quickchartButtonEl.classList.remove('colab-df-spinner');\n",
              "          quickchartButtonEl.classList.add('colab-df-quickchart-complete');\n",
              "        }\n",
              "        (() => {\n",
              "          let quickchartButtonEl =\n",
              "            document.querySelector('#df-74fbd923-9286-420f-94ce-09c10a2036a7 button');\n",
              "          quickchartButtonEl.style.display =\n",
              "            google.colab.kernel.accessAllowed ? 'block' : 'none';\n",
              "        })();\n",
              "      </script>\n",
              "    </div>\n",
              "\n",
              "    </div>\n",
              "  </div>\n"
            ],
            "application/vnd.google.colaboratory.intrinsic+json": {
              "type": "dataframe",
              "variable_name": "df",
              "summary": "{\n  \"name\": \"df\",\n  \"rows\": 1128,\n  \"fields\": [\n    {\n      \"column\": \"id\",\n      \"properties\": {\n        \"dtype\": \"number\",\n        \"std\": 288,\n        \"min\": 1,\n        \"max\": 1000,\n        \"num_unique_values\": 1000,\n        \"samples\": [\n          522,\n          738,\n          741\n        ],\n        \"semantic_type\": \"\",\n        \"description\": \"\"\n      }\n    },\n    {\n      \"column\": \"Empresa\",\n      \"properties\": {\n        \"dtype\": \"string\",\n        \"num_unique_values\": 974,\n        \"samples\": [\n          \"Wintheiser and Sons\",\n          \"MacGyver Group\",\n          \"DuBuque Inc\"\n        ],\n        \"semantic_type\": \"\",\n        \"description\": \"\"\n      }\n    },\n    {\n      \"column\": \"Fecha\",\n      \"properties\": {\n        \"dtype\": \"category\",\n        \"num_unique_values\": 344,\n        \"samples\": [\n          \"07/05/2024\",\n          \"07/01/2024\",\n          \"05/11/2024\"\n        ],\n        \"semantic_type\": \"\",\n        \"description\": \"\"\n      }\n    },\n    {\n      \"column\": \"Calificaci\\u00f3n\",\n      \"properties\": {\n        \"dtype\": \"number\",\n        \"std\": 1.403476268581816,\n        \"min\": 1.0,\n        \"max\": 5.0,\n        \"num_unique_values\": 5,\n        \"samples\": [\n          4.0,\n          2.0,\n          3.0\n        ],\n        \"semantic_type\": \"\",\n        \"description\": \"\"\n      }\n    },\n    {\n      \"column\": \"Comentarios\",\n      \"properties\": {\n        \"dtype\": \"category\",\n        \"num_unique_values\": 147,\n        \"samples\": [\n          \"Fusce posuere felis sed lacus. Morbi sem mauris, laoreet ut, rhoncus aliquet, pulvinar sed, nisl. Nunc rhoncus dui vel sem.\\n\\nSed sagittis. Nam congue, risus semper porta volutpat, quam pede lobortis ligula, sit amet eleifend pede libero quis orci. Nullam molestie nibh in lectus.\",\n          \"Nulla ut erat id mauris vulputate elementum. Nullam varius. Nulla facilisi.\",\n          \"Cras mi pede, malesuada in, imperdiet et, commodo vulputate, justo. In blandit ultrices enim. Lorem ipsum dolor sit amet, consectetuer adipiscing elit.\\n\\nProin interdum mauris non ligula pellentesque ultrices. Phasellus id sapien in sapien iaculis congue. Vivamus metus arcu, adipiscing molestie, hendrerit at, vulputate vitae, nisl.\\n\\nAenean lectus. Pellentesque eget nunc. Donec quis orci eget orci vehicula condimentum.\"\n        ],\n        \"semantic_type\": \"\",\n        \"description\": \"\"\n      }\n    }\n  ]\n}"
            }
          },
          "metadata": {},
          "execution_count": 6
        }
      ],
      "source": [
        "import pandas as pd\n",
        "\n",
        "# Cargar datos\n",
        "df = pd.read_csv('satis_clientes.csv')\n",
        "df.head(8)"
      ]
    },
    {
      "cell_type": "code",
      "source": [
        "df.info()"
      ],
      "metadata": {
        "id": "B9hVzXJgiezI",
        "colab": {
          "base_uri": "https://localhost:8080/"
        },
        "outputId": "ce847752-27ab-4be6-a7f6-4db4b5dbbb65"
      },
      "execution_count": null,
      "outputs": [
        {
          "output_type": "stream",
          "name": "stdout",
          "text": [
            "<class 'pandas.core.frame.DataFrame'>\n",
            "RangeIndex: 1128 entries, 0 to 1127\n",
            "Data columns (total 5 columns):\n",
            " #   Column        Non-Null Count  Dtype  \n",
            "---  ------        --------------  -----  \n",
            " 0   id            1128 non-null   int64  \n",
            " 1   Empresa       1128 non-null   object \n",
            " 2   Fecha         1128 non-null   object \n",
            " 3   Calificación  904 non-null    float64\n",
            " 4   Comentarios   818 non-null    object \n",
            "dtypes: float64(1), int64(1), object(3)\n",
            "memory usage: 44.2+ KB\n"
          ]
        }
      ]
    },
    {
      "cell_type": "markdown",
      "source": [
        "Si bien lo vamos a ver más adelante, asi podemos cambiar el tipo de dato de una columna"
      ],
      "metadata": {
        "id": "Z2i5W-3kMVYO"
      }
    },
    {
      "cell_type": "code",
      "source": [
        "df[\"Empresa\"] = df[\"Empresa\"].astype(\"string\")"
      ],
      "metadata": {
        "id": "sBNnQKkwyAB8"
      },
      "execution_count": null,
      "outputs": []
    },
    {
      "cell_type": "code",
      "source": [
        "# Identificar valores nulos\n",
        "valores_nulos = df.isnull().sum()\n",
        "print(f'Valores nulos: \\n{valores_nulos}')"
      ],
      "metadata": {
        "id": "0vZ7pAg225Eg"
      },
      "execution_count": null,
      "outputs": []
    },
    {
      "cell_type": "code",
      "source": [
        "# Asi listamos los valores con alguna celda nula\n",
        "df[df.isnull().any(axis=1)]"
      ],
      "metadata": {
        "id": "kE_XVd-6kFyG"
      },
      "execution_count": null,
      "outputs": []
    },
    {
      "cell_type": "markdown",
      "source": [
        "Incluso podemos representar gráficamente los valos nulos (NaN)"
      ],
      "metadata": {
        "id": "CLrZmD2aMqX5"
      }
    },
    {
      "cell_type": "code",
      "source": [
        "import seaborn as sns\n",
        "import matplotlib.pyplot as plt\n",
        "\n",
        "sns.heatmap(df.isnull())\n",
        "# sns.heatmap(~df.isnull())\n",
        "plt.show()"
      ],
      "metadata": {
        "id": "V0DkWBLoliWc",
        "colab": {
          "base_uri": "https://localhost:8080/",
          "height": 511
        },
        "outputId": "15bfb487-514d-44e8-948e-9746d9dbd774"
      },
      "execution_count": null,
      "outputs": [
        {
          "output_type": "display_data",
          "data": {
            "text/plain": [
              "<Figure size 640x480 with 2 Axes>"
            ],
            "image/png": "[encoded data removed]"
          },
          "metadata": {}
        }
      ]
    },
    {
      "cell_type": "markdown",
      "source": [
        "Vamos a cargar datos de una DB que tiene Nulls"
      ],
      "metadata": {
        "id": "Y7f7mJialhak"
      }
    },
    {
      "cell_type": "code",
      "source": [
        "# Importamos las librerías\n",
        "import sqlite3"
      ],
      "metadata": {
        "id": "9ek0oDOArcpY"
      },
      "execution_count": null,
      "outputs": []
    },
    {
      "cell_type": "code",
      "source": [
        "#Establecemos la conexión a la db\n",
        "conexion = sqlite3.connect('/content/drive/MyDrive/Colab_Notebooks/datasets/booking_db_nulls.sqlite')"
      ],
      "metadata": {
        "id": "XuxnfcVVrWcy"
      },
      "execution_count": null,
      "outputs": []
    },
    {
      "cell_type": "code",
      "source": [
        "df = pd.read_sql('''\n",
        "    SELECT\n",
        "        *\n",
        "    FROM reviews\n",
        "    ;\n",
        "''', conexion, index_col='review_id', parse_dates=['review_date'])"
      ],
      "metadata": {
        "id": "ydXj4KHvraTX"
      },
      "execution_count": null,
      "outputs": []
    },
    {
      "cell_type": "code",
      "source": [
        "df.info()"
      ],
      "metadata": {
        "id": "W_0_dHEMrepW",
        "colab": {
          "base_uri": "https://localhost:8080/"
        },
        "outputId": "e3e313fe-bf53-4676-a03f-63dd36642491"
      },
      "execution_count": null,
      "outputs": [
        {
          "output_type": "stream",
          "name": "stdout",
          "text": [
            "<class 'pandas.core.frame.DataFrame'>\n",
            "RangeIndex: 1128 entries, 0 to 1127\n",
            "Data columns (total 5 columns):\n",
            " #   Column        Non-Null Count  Dtype  \n",
            "---  ------        --------------  -----  \n",
            " 0   id            1128 non-null   int64  \n",
            " 1   Empresa       1128 non-null   string \n",
            " 2   Fecha         1128 non-null   object \n",
            " 3   Calificación  904 non-null    float64\n",
            " 4   Comentarios   818 non-null    object \n",
            "dtypes: float64(1), int64(1), object(2), string(1)\n",
            "memory usage: 44.2+ KB\n"
          ]
        }
      ]
    },
    {
      "cell_type": "code",
      "source": [
        "df.isnull().sum()"
      ],
      "metadata": {
        "id": "r8rLvWYirlHv"
      },
      "execution_count": null,
      "outputs": []
    },
    {
      "cell_type": "code",
      "source": [
        "df[df.isnull().any(axis=1)]\n",
        "# df[df.isnull().any(axis=1)].info()"
      ],
      "metadata": {
        "id": "VeBYWFRcr_i0"
      },
      "execution_count": null,
      "outputs": []
    },
    {
      "cell_type": "markdown",
      "source": [
        "# Datos duplicados"
      ],
      "metadata": {
        "id": "HUw9s4PNlhQu"
      }
    },
    {
      "cell_type": "code",
      "source": [
        "# Cargar datos\n",
        "df = pd.read_csv('satis_clientes.csv')\n",
        "df.head(8)"
      ],
      "metadata": {
        "id": "Svc72_UNNG2a",
        "colab": {
          "base_uri": "https://localhost:8080/",
          "height": 300
        },
        "outputId": "eae4acb1-5200-45dd-c4f4-5b8f1f94058d"
      },
      "execution_count": null,
      "outputs": [
        {
          "output_type": "execute_result",
          "data": {
            "text/plain": [
              "   id            Empresa       Fecha  Calificación  \\\n",
              "0   1     Mitchell Group  11/12/2024           1.0   \n",
              "1   2           Kuhn-Fay  25/01/2024           4.0   \n",
              "2   3         Moen-Blick  11/11/2024           3.0   \n",
              "3   4      McDermott Inc  01/12/2024           1.0   \n",
              "4   5        Keebler Inc  12/01/2024           4.0   \n",
              "5   6      Dickinson Inc  30/04/2024           1.0   \n",
              "6   7      Moen-Hartmann  11/03/2024           NaN   \n",
              "7   8  Lubowitz and Sons  27/01/2024           NaN   \n",
              "\n",
              "                                         Comentarios  \n",
              "0  Integer ac leo. Pellentesque ultrices mattis o...  \n",
              "1  Vestibulum ac est lacinia nisi venenatis trist...  \n",
              "2  Aliquam quis turpis eget elit sodales sceleris...  \n",
              "3                                                NaN  \n",
              "4  Integer ac leo. Pellentesque ultrices mattis o...  \n",
              "5  Phasellus in felis. Donec semper sapien a libe...  \n",
              "6                                                NaN  \n",
              "7  Donec diam neque, vestibulum eget, vulputate u...  "
            ],
            "text/html": [
              "\n",
              "  <div id=\"df-59f6ff77-9442-4e29-93cd-6bc8390828b9\" class=\"colab-df-container\">\n",
              "    <div>\n",
              "<style scoped>\n",
              "    .dataframe tbody tr th:only-of-type {\n",
              "        vertical-align: middle;\n",
              "    }\n",
              "\n",
              "    .dataframe tbody tr th {\n",
              "        vertical-align: top;\n",
              "    }\n",
              "\n",
              "    .dataframe thead th {\n",
              "        text-align: right;\n",
              "    }\n",
              "</style>\n",
              "<table border=\"1\" class=\"dataframe\">\n",
              "  <thead>\n",
              "    <tr style=\"text-align: right;\">\n",
              "      <th></th>\n",
              "      <th>id</th>\n",
              "      <th>Empresa</th>\n",
              "      <th>Fecha</th>\n",
              "      <th>Calificación</th>\n",
              "      <th>Comentarios</th>\n",
              "    </tr>\n",
              "  </thead>\n",
              "  <tbody>\n",
              "    <tr>\n",
              "      <th>0</th>\n",
              "      <td>1</td>\n",
              "      <td>Mitchell Group</td>\n",
              "      <td>11/12/2024</td>\n",
              "      <td>1.0</td>\n",
              "      <td>Integer ac leo. Pellentesque ultrices mattis o...</td>\n",
              "    </tr>\n",
              "    <tr>\n",
              "      <th>1</th>\n",
              "      <td>2</td>\n",
              "      <td>Kuhn-Fay</td>\n",
              "      <td>25/01/2024</td>\n",
              "      <td>4.0</td>\n",
              "      <td>Vestibulum ac est lacinia nisi venenatis trist...</td>\n",
              "    </tr>\n",
              "    <tr>\n",
              "      <th>2</th>\n",
              "      <td>3</td>\n",
              "      <td>Moen-Blick</td>\n",
              "      <td>11/11/2024</td>\n",
              "      <td>3.0</td>\n",
              "      <td>Aliquam quis turpis eget elit sodales sceleris...</td>\n",
              "    </tr>\n",
              "    <tr>\n",
              "      <th>3</th>\n",
              "      <td>4</td>\n",
              "      <td>McDermott Inc</td>\n",
              "      <td>01/12/2024</td>\n",
              "      <td>1.0</td>\n",
              "      <td>NaN</td>\n",
              "    </tr>\n",
              "    <tr>\n",
              "      <th>4</th>\n",
              "      <td>5</td>\n",
              "      <td>Keebler Inc</td>\n",
              "      <td>12/01/2024</td>\n",
              "      <td>4.0</td>\n",
              "      <td>Integer ac leo. Pellentesque ultrices mattis o...</td>\n",
              "    </tr>\n",
              "    <tr>\n",
              "      <th>5</th>\n",
              "      <td>6</td>\n",
              "      <td>Dickinson Inc</td>\n",
              "      <td>30/04/2024</td>\n",
              "      <td>1.0</td>\n",
              "      <td>Phasellus in felis. Donec semper sapien a libe...</td>\n",
              "    </tr>\n",
              "    <tr>\n",
              "      <th>6</th>\n",
              "      <td>7</td>\n",
              "      <td>Moen-Hartmann</td>\n",
              "      <td>11/03/2024</td>\n",
              "      <td>NaN</td>\n",
              "      <td>NaN</td>\n",
              "    </tr>\n",
              "    <tr>\n",
              "      <th>7</th>\n",
              "      <td>8</td>\n",
              "      <td>Lubowitz and Sons</td>\n",
              "      <td>27/01/2024</td>\n",
              "      <td>NaN</td>\n",
              "      <td>Donec diam neque, vestibulum eget, vulputate u...</td>\n",
              "    </tr>\n",
              "  </tbody>\n",
              "</table>\n",
              "</div>\n",
              "    <div class=\"colab-df-buttons\">\n",
              "\n",
              "  <div class=\"colab-df-container\">\n",
              "    <button class=\"colab-df-convert\" onclick=\"convertToInteractive('df-59f6ff77-9442-4e29-93cd-6bc8390828b9')\"\n",
              "            title=\"Convert this dataframe to an interactive table.\"\n",
              "            style=\"display:none;\">\n",
              "\n",
              "  <svg xmlns=\"http://www.w3.org/2000/svg\" height=\"24px\" viewBox=\"0 -960 960 960\">\n",
              "    <path d=\"M120-120v-720h720v720H120Zm60-500h600v-160H180v160Zm220 220h160v-160H400v160Zm0 220h160v-160H400v160ZM180-400h160v-160H180v160Zm440 0h160v-160H620v160ZM180-180h160v-160H180v160Zm440 0h160v-160H620v160Z\"/>\n",
              "  </svg>\n",
              "    </button>\n",
              "\n",
              "  <style>\n",
              "    .colab-df-container {\n",
              "      display:flex;\n",
              "      gap: 12px;\n",
              "    }\n",
              "\n",
              "    .colab-df-convert {\n",
              "      background-color: #E8F0FE;\n",
              "      border: none;\n",
              "      border-radius: 50%;\n",
              "      cursor: pointer;\n",
              "      display: none;\n",
              "      fill: #1967D2;\n",
              "      height: 32px;\n",
              "      padding: 0 0 0 0;\n",
              "      width: 32px;\n",
              "    }\n",
              "\n",
              "    .colab-df-convert:hover {\n",
              "      background-color: #E2EBFA;\n",
              "      box-shadow: 0px 1px 2px rgba(60, 64, 67, 0.3), 0px 1px 3px 1px rgba(60, 64, 67, 0.15);\n",
              "      fill: #174EA6;\n",
              "    }\n",
              "\n",
              "    .colab-df-buttons div {\n",
              "      margin-bottom: 4px;\n",
              "    }\n",
              "\n",
              "    [theme=dark] .colab-df-convert {\n",
              "      background-color: #3B4455;\n",
              "      fill: #D2E3FC;\n",
              "    }\n",
              "\n",
              "    [theme=dark] .colab-df-convert:hover {\n",
              "      background-color: #434B5C;\n",
              "      box-shadow: 0px 1px 3px 1px rgba(0, 0, 0, 0.15);\n",
              "      filter: drop-shadow(0px 1px 2px rgba(0, 0, 0, 0.3));\n",
              "      fill: #FFFFFF;\n",
              "    }\n",
              "  </style>\n",
              "\n",
              "    <script>\n",
              "      const buttonEl =\n",
              "        document.querySelector('#df-59f6ff77-9442-4e29-93cd-6bc8390828b9 button.colab-df-convert');\n",
              "      buttonEl.style.display =\n",
              "        google.colab.kernel.accessAllowed ? 'block' : 'none';\n",
              "\n",
              "      async function convertToInteractive(key) {\n",
              "        const element = document.querySelector('#df-59f6ff77-9442-4e29-93cd-6bc8390828b9');\n",
              "        const dataTable =\n",
              "          await google.colab.kernel.invokeFunction('convertToInteractive',\n",
              "                                                    [key], {});\n",
              "        if (!dataTable) return;\n",
              "\n",
              "        const docLinkHtml = 'Like what you see? Visit the ' +\n",
              "          '<a target=\"_blank\" href=https://colab.research.google.com/notebooks/data_table.ipynb>data table notebook</a>'\n",
              "          + ' to learn more about interactive tables.';\n",
              "        element.innerHTML = '';\n",
              "        dataTable['output_type'] = 'display_data';\n",
              "        await google.colab.output.renderOutput(dataTable, element);\n",
              "        const docLink = document.createElement('div');\n",
              "        docLink.innerHTML = docLinkHtml;\n",
              "        element.appendChild(docLink);\n",
              "      }\n",
              "    </script>\n",
              "  </div>\n",
              "\n",
              "\n",
              "    <div id=\"df-f2acc015-5bf2-4274-9cc1-541002accc20\">\n",
              "      <button class=\"colab-df-quickchart\" onclick=\"quickchart('df-f2acc015-5bf2-4274-9cc1-541002accc20')\"\n",
              "                title=\"Suggest charts\"\n",
              "                style=\"display:none;\">\n",
              "\n",
              "<svg xmlns=\"http://www.w3.org/2000/svg\" height=\"24px\"viewBox=\"0 0 24 24\"\n",
              "     width=\"24px\">\n",
              "    <g>\n",
              "        <path d=\"M19 3H5c-1.1 0-2 .9-2 2v14c0 1.1.9 2 2 2h14c1.1 0 2-.9 2-2V5c0-1.1-.9-2-2-2zM9 17H7v-7h2v7zm4 0h-2V7h2v10zm4 0h-2v-4h2v4z\"/>\n",
              "    </g>\n",
              "</svg>\n",
              "      </button>\n",
              "\n",
              "<style>\n",
              "  .colab-df-quickchart {\n",
              "      --bg-color: #E8F0FE;\n",
              "      --fill-color: #1967D2;\n",
              "      --hover-bg-color: #E2EBFA;\n",
              "      --hover-fill-color: #174EA6;\n",
              "      --disabled-fill-color: #AAA;\n",
              "      --disabled-bg-color: #DDD;\n",
              "  }\n",
              "\n",
              "  [theme=dark] .colab-df-quickchart {\n",
              "      --bg-color: #3B4455;\n",
              "      --fill-color: #D2E3FC;\n",
              "      --hover-bg-color: #434B5C;\n",
              "      --hover-fill-color: #FFFFFF;\n",
              "      --disabled-bg-color: #3B4455;\n",
              "      --disabled-fill-color: #666;\n",
              "  }\n",
              "\n",
              "  .colab-df-quickchart {\n",
              "    background-color: var(--bg-color);\n",
              "    border: none;\n",
              "    border-radius: 50%;\n",
              "    cursor: pointer;\n",
              "    display: none;\n",
              "    fill: var(--fill-color);\n",
              "    height: 32px;\n",
              "    padding: 0;\n",
              "    width: 32px;\n",
              "  }\n",
              "\n",
              "  .colab-df-quickchart:hover {\n",
              "    background-color: var(--hover-bg-color);\n",
              "    box-shadow: 0 1px 2px rgba(60, 64, 67, 0.3), 0 1px 3px 1px rgba(60, 64, 67, 0.15);\n",
              "    fill: var(--button-hover-fill-color);\n",
              "  }\n",
              "\n",
              "  .colab-df-quickchart-complete:disabled,\n",
              "  .colab-df-quickchart-complete:disabled:hover {\n",
              "    background-color: var(--disabled-bg-color);\n",
              "    fill: var(--disabled-fill-color);\n",
              "    box-shadow: none;\n",
              "  }\n",
              "\n",
              "  .colab-df-spinner {\n",
              "    border: 2px solid var(--fill-color);\n",
              "    border-color: transparent;\n",
              "    border-bottom-color: var(--fill-color);\n",
              "    animation:\n",
              "      spin 1s steps(1) infinite;\n",
              "  }\n",
              "\n",
              "  @keyframes spin {\n",
              "    0% {\n",
              "      border-color: transparent;\n",
              "      border-bottom-color: var(--fill-color);\n",
              "      border-left-color: var(--fill-color);\n",
              "    }\n",
              "    20% {\n",
              "      border-color: transparent;\n",
              "      border-left-color: var(--fill-color);\n",
              "      border-top-color: var(--fill-color);\n",
              "    }\n",
              "    30% {\n",
              "      border-color: transparent;\n",
              "      border-left-color: var(--fill-color);\n",
              "      border-top-color: var(--fill-color);\n",
              "      border-right-color: var(--fill-color);\n",
              "    }\n",
              "    40% {\n",
              "      border-color: transparent;\n",
              "      border-right-color: var(--fill-color);\n",
              "      border-top-color: var(--fill-color);\n",
              "    }\n",
              "    60% {\n",
              "      border-color: transparent;\n",
              "      border-right-color: var(--fill-color);\n",
              "    }\n",
              "    80% {\n",
              "      border-color: transparent;\n",
              "      border-right-color: var(--fill-color);\n",
              "      border-bottom-color: var(--fill-color);\n",
              "    }\n",
              "    90% {\n",
              "      border-color: transparent;\n",
              "      border-bottom-color: var(--fill-color);\n",
              "    }\n",
              "  }\n",
              "</style>\n",
              "\n",
              "      <script>\n",
              "        async function quickchart(key) {\n",
              "          const quickchartButtonEl =\n",
              "            document.querySelector('#' + key + ' button');\n",
              "          quickchartButtonEl.disabled = true;  // To prevent multiple clicks.\n",
              "          quickchartButtonEl.classList.add('colab-df-spinner');\n",
              "          try {\n",
              "            const charts = await google.colab.kernel.invokeFunction(\n",
              "                'suggestCharts', [key], {});\n",
              "          } catch (error) {\n",
              "            console.error('Error during call to suggestCharts:', error);\n",
              "          }\n",
              "          quickchartButtonEl.classList.remove('colab-df-spinner');\n",
              "          quickchartButtonEl.classList.add('colab-df-quickchart-complete');\n",
              "        }\n",
              "        (() => {\n",
              "          let quickchartButtonEl =\n",
              "            document.querySelector('#df-f2acc015-5bf2-4274-9cc1-541002accc20 button');\n",
              "          quickchartButtonEl.style.display =\n",
              "            google.colab.kernel.accessAllowed ? 'block' : 'none';\n",
              "        })();\n",
              "      </script>\n",
              "    </div>\n",
              "\n",
              "    </div>\n",
              "  </div>\n"
            ],
            "application/vnd.google.colaboratory.intrinsic+json": {
              "type": "dataframe",
              "variable_name": "df",
              "summary": "{\n  \"name\": \"df\",\n  \"rows\": 1128,\n  \"fields\": [\n    {\n      \"column\": \"id\",\n      \"properties\": {\n        \"dtype\": \"number\",\n        \"std\": 288,\n        \"min\": 1,\n        \"max\": 1000,\n        \"num_unique_values\": 1000,\n        \"samples\": [\n          522,\n          738,\n          741\n        ],\n        \"semantic_type\": \"\",\n        \"description\": \"\"\n      }\n    },\n    {\n      \"column\": \"Empresa\",\n      \"properties\": {\n        \"dtype\": \"string\",\n        \"num_unique_values\": 974,\n        \"samples\": [\n          \"Wintheiser and Sons\",\n          \"MacGyver Group\",\n          \"DuBuque Inc\"\n        ],\n        \"semantic_type\": \"\",\n        \"description\": \"\"\n      }\n    },\n    {\n      \"column\": \"Fecha\",\n      \"properties\": {\n        \"dtype\": \"category\",\n        \"num_unique_values\": 344,\n        \"samples\": [\n          \"07/05/2024\",\n          \"07/01/2024\",\n          \"05/11/2024\"\n        ],\n        \"semantic_type\": \"\",\n        \"description\": \"\"\n      }\n    },\n    {\n      \"column\": \"Calificaci\\u00f3n\",\n      \"properties\": {\n        \"dtype\": \"number\",\n        \"std\": 1.403476268581816,\n        \"min\": 1.0,\n        \"max\": 5.0,\n        \"num_unique_values\": 5,\n        \"samples\": [\n          4.0,\n          2.0,\n          3.0\n        ],\n        \"semantic_type\": \"\",\n        \"description\": \"\"\n      }\n    },\n    {\n      \"column\": \"Comentarios\",\n      \"properties\": {\n        \"dtype\": \"category\",\n        \"num_unique_values\": 147,\n        \"samples\": [\n          \"Fusce posuere felis sed lacus. Morbi sem mauris, laoreet ut, rhoncus aliquet, pulvinar sed, nisl. Nunc rhoncus dui vel sem.\\n\\nSed sagittis. Nam congue, risus semper porta volutpat, quam pede lobortis ligula, sit amet eleifend pede libero quis orci. Nullam molestie nibh in lectus.\",\n          \"Nulla ut erat id mauris vulputate elementum. Nullam varius. Nulla facilisi.\",\n          \"Cras mi pede, malesuada in, imperdiet et, commodo vulputate, justo. In blandit ultrices enim. Lorem ipsum dolor sit amet, consectetuer adipiscing elit.\\n\\nProin interdum mauris non ligula pellentesque ultrices. Phasellus id sapien in sapien iaculis congue. Vivamus metus arcu, adipiscing molestie, hendrerit at, vulputate vitae, nisl.\\n\\nAenean lectus. Pellentesque eget nunc. Donec quis orci eget orci vehicula condimentum.\"\n        ],\n        \"semantic_type\": \"\",\n        \"description\": \"\"\n      }\n    }\n  ]\n}"
            }
          },
          "metadata": {},
          "execution_count": 13
        }
      ]
    },
    {
      "cell_type": "code",
      "source": [
        "# Identificar duplicados\n",
        "duplicados = df.duplicated()\n",
        "cantidad_duplicados = duplicados.sum()\n",
        "print(f'Duplicados:\\n{duplicados}')\n",
        "print(f'Cantidad de duplicados: {cantidad_duplicados}')"
      ],
      "metadata": {
        "id": "LlEJRHVQ3CE9",
        "colab": {
          "base_uri": "https://localhost:8080/"
        },
        "outputId": "8b0e0bec-13e4-4eba-b5fb-c8fd19768ea2"
      },
      "execution_count": null,
      "outputs": [
        {
          "output_type": "stream",
          "name": "stdout",
          "text": [
            "Duplicados:\n",
            "0       False\n",
            "1       False\n",
            "2       False\n",
            "3       False\n",
            "4       False\n",
            "        ...  \n",
            "1123    False\n",
            "1124    False\n",
            "1125    False\n",
            "1126    False\n",
            "1127    False\n",
            "Length: 1128, dtype: bool\n",
            "Cantidad de duplicados: 128\n"
          ]
        }
      ]
    },
    {
      "cell_type": "code",
      "source": [
        "# Crear subconjunto de duplicados\n",
        "registros_duplicados = df[duplicados]\n",
        "# Mostrar en consola\n",
        "\n",
        "print(f'\\nCantidad total de registros: {len(df)}')\n",
        "print(f'Cantidad de registros duplicados: {cantidad_duplicados}')\n",
        "print(registros_duplicados.head())"
      ],
      "metadata": {
        "id": "WEpVL75o3Hh-",
        "colab": {
          "base_uri": "https://localhost:8080/"
        },
        "outputId": "52c65963-d20d-4064-dcd5-88cc2769ec6e"
      },
      "execution_count": null,
      "outputs": [
        {
          "output_type": "stream",
          "name": "stdout",
          "text": [
            "\n",
            "Cantidad total de registros: 1128\n",
            "Cantidad de registros duplicados: 128\n",
            "    id                          Empresa       Fecha  Calificación  \\\n",
            "10  10                     Legros-Olson  12/11/2024           5.0   \n",
            "12  11                     Harris-Davis  13/11/2024           1.0   \n",
            "18  16  White, Balistreri and Daugherty  29/06/2024           5.0   \n",
            "45  42                 Keebler and Sons  28/09/2024           5.0   \n",
            "48  44                  Erdman-Parisian  07/03/2024           2.0   \n",
            "\n",
            "                                          Comentarios  \n",
            "10                                                NaN  \n",
            "12  Nullam sit amet turpis elementum ligula vehicu...  \n",
            "18                                                NaN  \n",
            "45                                                NaN  \n",
            "48  Curabitur in libero ut massa volutpat convalli...  \n"
          ]
        }
      ]
    },
    {
      "cell_type": "code",
      "source": [
        "registros_duplicados.dtypes"
      ],
      "metadata": {
        "id": "uh4At1nY4OaI",
        "colab": {
          "base_uri": "https://localhost:8080/",
          "height": 241
        },
        "outputId": "281ad242-0dd1-427c-c167-e2943189f216"
      },
      "execution_count": null,
      "outputs": [
        {
          "output_type": "execute_result",
          "data": {
            "text/plain": [
              "id                       int64\n",
              "Empresa         string[python]\n",
              "Fecha                   object\n",
              "Calificación           float64\n",
              "Comentarios             object\n",
              "dtype: object"
            ],
            "text/html": [
              "<div>\n",
              "<style scoped>\n",
              "    .dataframe tbody tr th:only-of-type {\n",
              "        vertical-align: middle;\n",
              "    }\n",
              "\n",
              "    .dataframe tbody tr th {\n",
              "        vertical-align: top;\n",
              "    }\n",
              "\n",
              "    .dataframe thead th {\n",
              "        text-align: right;\n",
              "    }\n",
              "</style>\n",
              "<table border=\"1\" class=\"dataframe\">\n",
              "  <thead>\n",
              "    <tr style=\"text-align: right;\">\n",
              "      <th></th>\n",
              "      <th>0</th>\n",
              "    </tr>\n",
              "  </thead>\n",
              "  <tbody>\n",
              "    <tr>\n",
              "      <th>id</th>\n",
              "      <td>int64</td>\n",
              "    </tr>\n",
              "    <tr>\n",
              "      <th>Empresa</th>\n",
              "      <td>string[python]</td>\n",
              "    </tr>\n",
              "    <tr>\n",
              "      <th>Fecha</th>\n",
              "      <td>object</td>\n",
              "    </tr>\n",
              "    <tr>\n",
              "      <th>Calificación</th>\n",
              "      <td>float64</td>\n",
              "    </tr>\n",
              "    <tr>\n",
              "      <th>Comentarios</th>\n",
              "      <td>object</td>\n",
              "    </tr>\n",
              "  </tbody>\n",
              "</table>\n",
              "</div><br><label><b>dtype:</b> object</label>"
            ]
          },
          "metadata": {},
          "execution_count": 23
        }
      ]
    },
    {
      "cell_type": "code",
      "source": [
        "duplicado_10 = df[\"id\"].duplicated()\n",
        "print(duplicado_10)"
      ],
      "metadata": {
        "id": "wWg_yt0e3uEK",
        "colab": {
          "base_uri": "https://localhost:8080/"
        },
        "outputId": "5b1e4eb8-e831-4d67-cbe5-3fef54d958f0"
      },
      "execution_count": null,
      "outputs": [
        {
          "output_type": "stream",
          "name": "stdout",
          "text": [
            "0       False\n",
            "1       False\n",
            "2       False\n",
            "3       False\n",
            "4       False\n",
            "        ...  \n",
            "1123    False\n",
            "1124    False\n",
            "1125    False\n",
            "1126    False\n",
            "1127    False\n",
            "Name: id, Length: 1128, dtype: bool\n"
          ]
        }
      ]
    },
    {
      "cell_type": "markdown",
      "source": [
        "# Actividad 2: Exploración y limpieza preliminar con Python.\n",
        "**Contexto**\n",
        "En esta actividad, trabajarás guiado por Luis, nuestro Analista de BI, con una planilla de Google Sheets que registra la temperatura corporal de un grupo de personas durante 10 días. Debes realizar un examen preliminar para identificar datos problemáticos, como duplicados y valores nulos. Esta práctica te ayudará a dar los pasos previos a la limpieza de datos, un componente vital en cualquier proyecto de análisis.\n",
        "\n",
        "**Objetivos**\n",
        "* Identificar los datos duplicados y nulos en el conjunto.\n",
        "* Analizar el mejor tratamiento para los datos anómalos y nulos.\n",
        "\n",
        "**Ejercicio práctico**\n",
        "1. Crear un dataframe a partir de la planilla de cálculo y efectuar un examen preliminar.\n",
        "2. Identificar los datos:\n",
        "\n",
        "  a. duplicados\n",
        "\n",
        "  b. nulos\n",
        "3. Analizá cuál sería el mejor tratamiento para los datos anómalos (fuera de rango) y nulos en los siguientes contextos **(YA RESUELTO)**:\n",
        "\n",
        "<center><img src=\"https://drive.google.com/uc?id=1CaYiA8Sc5Z1KPEA6NZ2DYWuCzaihZ6BQ\"></center>\n",
        "\n",
        "**Sets de datos**\n",
        "* [Actividad 2](https://docs.google.com/spreadsheets/d/1-rUn4TUwpGrLE1DH8moeiR5eSyeF-jOOTpfhRgZxVIQ/edit?usp=sharing)\n",
        "\n",
        "**¿Por qué importa esto en SynthData?**\n",
        "\n",
        "La exploración y limpieza de datos son pasos esenciales para garantizar que cualquier análisis posterior sea robusto y significativo. En SynthData, nos enfrentamos a datos en diferentes formatos, y es crucial asegurarnos de que estén listos para ser analizados. Esta actividad te enseñará a detectar problemas comunes en conjuntos de datos, como duplicados y valores nulos, y cómo abordarlos adecuadamente.\n",
        "\n"
      ],
      "metadata": {
        "id": "vG62vH5P9JpY"
      }
    },
    {
      "cell_type": "markdown",
      "source": [
        "### 1) Crear el dataframe"
      ],
      "metadata": {
        "id": "86IAa-35_7_k"
      }
    },
    {
      "cell_type": "code",
      "source": [
        "# importar la librería\n",
        "# crear el dataframe\n",
        "# probar que se haya cargado el dataframe\n",
        "import pandas as pd\n",
        "df = pd.read_csv('https://docs.google.com/spreadsheets/d/1-rUn4TUwpGrLE1DH8moeiR5eSyeF-jOOTpfhRgZxVIQ/gviz/tq?tqx=out:csv&sheet=')\n",
        "df"
      ],
      "metadata": {
        "id": "DOjVohTxABdn",
        "colab": {
          "base_uri": "https://localhost:8080/",
          "height": 423
        },
        "outputId": "8ebeb11c-a71b-48bc-a507-b7d233a92703"
      },
      "execution_count": null,
      "outputs": [
        {
          "output_type": "execute_result",
          "data": {
            "text/plain": [
              "                   nombre     d1     d2     d3     d4     d5     d6     d7  \\\n",
              "0       Marcellus Antosik  36.85  36.01  37.36  37.85  36.31  36.55  36.71   \n",
              "1            Olia Thomson  36.06  36.42  36.16  36.03  36.00  36.08  37.45   \n",
              "2         Almeta Meredith  36.89  37.74  36.16  36.59  37.93  37.12  36.34   \n",
              "3     Massimiliano Waller  36.50  37.91    NaN  36.16  37.41  37.73  36.57   \n",
              "4         Melody Fedynski  37.90  37.69  36.55  37.06  37.81  36.77  36.89   \n",
              "...                   ...    ...    ...    ...    ...    ...    ...    ...   \n",
              "3013       Marc Pullinger  36.07  37.73  36.29  37.37  36.31  36.73  36.65   \n",
              "3014       Marnia Carillo    NaN  36.93  36.47  38.00  37.94  36.93    NaN   \n",
              "3015          Vic Zanotti  37.19  36.49  37.24  37.10  36.27  37.42  36.92   \n",
              "3016          Hoyt Koenen  37.57  37.23  36.76  36.17  36.61  37.21  37.66   \n",
              "3017        Artus Simmill  37.09  36.26  36.25  36.27  36.72  37.28  37.19   \n",
              "\n",
              "         d8     d9    d10  \n",
              "0     37.79  36.44  36.86  \n",
              "1     37.92  37.53  36.54  \n",
              "2     36.04    NaN  37.05  \n",
              "3     37.94  36.03  36.80  \n",
              "4     36.35  37.36  37.08  \n",
              "...     ...    ...    ...  \n",
              "3013  36.48  37.62  37.13  \n",
              "3014  36.01  37.02  37.51  \n",
              "3015  36.54  37.13  37.02  \n",
              "3016  37.18  36.45  36.68  \n",
              "3017  37.13  37.89  36.42  \n",
              "\n",
              "[3018 rows x 11 columns]"
            ],
            "text/html": [
              "\n",
              "  <div id=\"df-7b772d33-0295-45ac-8985-127ad23eb5fe\" class=\"colab-df-container\">\n",
              "    <div>\n",
              "<style scoped>\n",
              "    .dataframe tbody tr th:only-of-type {\n",
              "        vertical-align: middle;\n",
              "    }\n",
              "\n",
              "    .dataframe tbody tr th {\n",
              "        vertical-align: top;\n",
              "    }\n",
              "\n",
              "    .dataframe thead th {\n",
              "        text-align: right;\n",
              "    }\n",
              "</style>\n",
              "<table border=\"1\" class=\"dataframe\">\n",
              "  <thead>\n",
              "    <tr style=\"text-align: right;\">\n",
              "      <th></th>\n",
              "      <th>nombre</th>\n",
              "      <th>d1</th>\n",
              "      <th>d2</th>\n",
              "      <th>d3</th>\n",
              "      <th>d4</th>\n",
              "      <th>d5</th>\n",
              "      <th>d6</th>\n",
              "      <th>d7</th>\n",
              "      <th>d8</th>\n",
              "      <th>d9</th>\n",
              "      <th>d10</th>\n",
              "    </tr>\n",
              "  </thead>\n",
              "  <tbody>\n",
              "    <tr>\n",
              "      <th>0</th>\n",
              "      <td>Marcellus Antosik</td>\n",
              "      <td>36.85</td>\n",
              "      <td>36.01</td>\n",
              "      <td>37.36</td>\n",
              "      <td>37.85</td>\n",
              "      <td>36.31</td>\n",
              "      <td>36.55</td>\n",
              "      <td>36.71</td>\n",
              "      <td>37.79</td>\n",
              "      <td>36.44</td>\n",
              "      <td>36.86</td>\n",
              "    </tr>\n",
              "    <tr>\n",
              "      <th>1</th>\n",
              "      <td>Olia Thomson</td>\n",
              "      <td>36.06</td>\n",
              "      <td>36.42</td>\n",
              "      <td>36.16</td>\n",
              "      <td>36.03</td>\n",
              "      <td>36.00</td>\n",
              "      <td>36.08</td>\n",
              "      <td>37.45</td>\n",
              "      <td>37.92</td>\n",
              "      <td>37.53</td>\n",
              "      <td>36.54</td>\n",
              "    </tr>\n",
              "    <tr>\n",
              "      <th>2</th>\n",
              "      <td>Almeta Meredith</td>\n",
              "      <td>36.89</td>\n",
              "      <td>37.74</td>\n",
              "      <td>36.16</td>\n",
              "      <td>36.59</td>\n",
              "      <td>37.93</td>\n",
              "      <td>37.12</td>\n",
              "      <td>36.34</td>\n",
              "      <td>36.04</td>\n",
              "      <td>NaN</td>\n",
              "      <td>37.05</td>\n",
              "    </tr>\n",
              "    <tr>\n",
              "      <th>3</th>\n",
              "      <td>Massimiliano Waller</td>\n",
              "      <td>36.50</td>\n",
              "      <td>37.91</td>\n",
              "      <td>NaN</td>\n",
              "      <td>36.16</td>\n",
              "      <td>37.41</td>\n",
              "      <td>37.73</td>\n",
              "      <td>36.57</td>\n",
              "      <td>37.94</td>\n",
              "      <td>36.03</td>\n",
              "      <td>36.80</td>\n",
              "    </tr>\n",
              "    <tr>\n",
              "      <th>4</th>\n",
              "      <td>Melody Fedynski</td>\n",
              "      <td>37.90</td>\n",
              "      <td>37.69</td>\n",
              "      <td>36.55</td>\n",
              "      <td>37.06</td>\n",
              "      <td>37.81</td>\n",
              "      <td>36.77</td>\n",
              "      <td>36.89</td>\n",
              "      <td>36.35</td>\n",
              "      <td>37.36</td>\n",
              "      <td>37.08</td>\n",
              "    </tr>\n",
              "    <tr>\n",
              "      <th>...</th>\n",
              "      <td>...</td>\n",
              "      <td>...</td>\n",
              "      <td>...</td>\n",
              "      <td>...</td>\n",
              "      <td>...</td>\n",
              "      <td>...</td>\n",
              "      <td>...</td>\n",
              "      <td>...</td>\n",
              "      <td>...</td>\n",
              "      <td>...</td>\n",
              "      <td>...</td>\n",
              "    </tr>\n",
              "    <tr>\n",
              "      <th>3013</th>\n",
              "      <td>Marc Pullinger</td>\n",
              "      <td>36.07</td>\n",
              "      <td>37.73</td>\n",
              "      <td>36.29</td>\n",
              "      <td>37.37</td>\n",
              "      <td>36.31</td>\n",
              "      <td>36.73</td>\n",
              "      <td>36.65</td>\n",
              "      <td>36.48</td>\n",
              "      <td>37.62</td>\n",
              "      <td>37.13</td>\n",
              "    </tr>\n",
              "    <tr>\n",
              "      <th>3014</th>\n",
              "      <td>Marnia Carillo</td>\n",
              "      <td>NaN</td>\n",
              "      <td>36.93</td>\n",
              "      <td>36.47</td>\n",
              "      <td>38.00</td>\n",
              "      <td>37.94</td>\n",
              "      <td>36.93</td>\n",
              "      <td>NaN</td>\n",
              "      <td>36.01</td>\n",
              "      <td>37.02</td>\n",
              "      <td>37.51</td>\n",
              "    </tr>\n",
              "    <tr>\n",
              "      <th>3015</th>\n",
              "      <td>Vic Zanotti</td>\n",
              "      <td>37.19</td>\n",
              "      <td>36.49</td>\n",
              "      <td>37.24</td>\n",
              "      <td>37.10</td>\n",
              "      <td>36.27</td>\n",
              "      <td>37.42</td>\n",
              "      <td>36.92</td>\n",
              "      <td>36.54</td>\n",
              "      <td>37.13</td>\n",
              "      <td>37.02</td>\n",
              "    </tr>\n",
              "    <tr>\n",
              "      <th>3016</th>\n",
              "      <td>Hoyt Koenen</td>\n",
              "      <td>37.57</td>\n",
              "      <td>37.23</td>\n",
              "      <td>36.76</td>\n",
              "      <td>36.17</td>\n",
              "      <td>36.61</td>\n",
              "      <td>37.21</td>\n",
              "      <td>37.66</td>\n",
              "      <td>37.18</td>\n",
              "      <td>36.45</td>\n",
              "      <td>36.68</td>\n",
              "    </tr>\n",
              "    <tr>\n",
              "      <th>3017</th>\n",
              "      <td>Artus Simmill</td>\n",
              "      <td>37.09</td>\n",
              "      <td>36.26</td>\n",
              "      <td>36.25</td>\n",
              "      <td>36.27</td>\n",
              "      <td>36.72</td>\n",
              "      <td>37.28</td>\n",
              "      <td>37.19</td>\n",
              "      <td>37.13</td>\n",
              "      <td>37.89</td>\n",
              "      <td>36.42</td>\n",
              "    </tr>\n",
              "  </tbody>\n",
              "</table>\n",
              "<p>3018 rows × 11 columns</p>\n",
              "</div>\n",
              "    <div class=\"colab-df-buttons\">\n",
              "\n",
              "  <div class=\"colab-df-container\">\n",
              "    <button class=\"colab-df-convert\" onclick=\"convertToInteractive('df-7b772d33-0295-45ac-8985-127ad23eb5fe')\"\n",
              "            title=\"Convert this dataframe to an interactive table.\"\n",
              "            style=\"display:none;\">\n",
              "\n",
              "  <svg xmlns=\"http://www.w3.org/2000/svg\" height=\"24px\" viewBox=\"0 -960 960 960\">\n",
              "    <path d=\"M120-120v-720h720v720H120Zm60-500h600v-160H180v160Zm220 220h160v-160H400v160Zm0 220h160v-160H400v160ZM180-400h160v-160H180v160Zm440 0h160v-160H620v160ZM180-180h160v-160H180v160Zm440 0h160v-160H620v160Z\"/>\n",
              "  </svg>\n",
              "    </button>\n",
              "\n",
              "  <style>\n",
              "    .colab-df-container {\n",
              "      display:flex;\n",
              "      gap: 12px;\n",
              "    }\n",
              "\n",
              "    .colab-df-convert {\n",
              "      background-color: #E8F0FE;\n",
              "      border: none;\n",
              "      border-radius: 50%;\n",
              "      cursor: pointer;\n",
              "      display: none;\n",
              "      fill: #1967D2;\n",
              "      height: 32px;\n",
              "      padding: 0 0 0 0;\n",
              "      width: 32px;\n",
              "    }\n",
              "\n",
              "    .colab-df-convert:hover {\n",
              "      background-color: #E2EBFA;\n",
              "      box-shadow: 0px 1px 2px rgba(60, 64, 67, 0.3), 0px 1px 3px 1px rgba(60, 64, 67, 0.15);\n",
              "      fill: #174EA6;\n",
              "    }\n",
              "\n",
              "    .colab-df-buttons div {\n",
              "      margin-bottom: 4px;\n",
              "    }\n",
              "\n",
              "    [theme=dark] .colab-df-convert {\n",
              "      background-color: #3B4455;\n",
              "      fill: #D2E3FC;\n",
              "    }\n",
              "\n",
              "    [theme=dark] .colab-df-convert:hover {\n",
              "      background-color: #434B5C;\n",
              "      box-shadow: 0px 1px 3px 1px rgba(0, 0, 0, 0.15);\n",
              "      filter: drop-shadow(0px 1px 2px rgba(0, 0, 0, 0.3));\n",
              "      fill: #FFFFFF;\n",
              "    }\n",
              "  </style>\n",
              "\n",
              "    <script>\n",
              "      const buttonEl =\n",
              "        document.querySelector('#df-7b772d33-0295-45ac-8985-127ad23eb5fe button.colab-df-convert');\n",
              "      buttonEl.style.display =\n",
              "        google.colab.kernel.accessAllowed ? 'block' : 'none';\n",
              "\n",
              "      async function convertToInteractive(key) {\n",
              "        const element = document.querySelector('#df-7b772d33-0295-45ac-8985-127ad23eb5fe');\n",
              "        const dataTable =\n",
              "          await google.colab.kernel.invokeFunction('convertToInteractive',\n",
              "                                                    [key], {});\n",
              "        if (!dataTable) return;\n",
              "\n",
              "        const docLinkHtml = 'Like what you see? Visit the ' +\n",
              "          '<a target=\"_blank\" href=https://colab.research.google.com/notebooks/data_table.ipynb>data table notebook</a>'\n",
              "          + ' to learn more about interactive tables.';\n",
              "        element.innerHTML = '';\n",
              "        dataTable['output_type'] = 'display_data';\n",
              "        await google.colab.output.renderOutput(dataTable, element);\n",
              "        const docLink = document.createElement('div');\n",
              "        docLink.innerHTML = docLinkHtml;\n",
              "        element.appendChild(docLink);\n",
              "      }\n",
              "    </script>\n",
              "  </div>\n",
              "\n",
              "\n",
              "    <div id=\"df-87ace6ca-420c-4b0a-bcdc-160da325a439\">\n",
              "      <button class=\"colab-df-quickchart\" onclick=\"quickchart('df-87ace6ca-420c-4b0a-bcdc-160da325a439')\"\n",
              "                title=\"Suggest charts\"\n",
              "                style=\"display:none;\">\n",
              "\n",
              "<svg xmlns=\"http://www.w3.org/2000/svg\" height=\"24px\"viewBox=\"0 0 24 24\"\n",
              "     width=\"24px\">\n",
              "    <g>\n",
              "        <path d=\"M19 3H5c-1.1 0-2 .9-2 2v14c0 1.1.9 2 2 2h14c1.1 0 2-.9 2-2V5c0-1.1-.9-2-2-2zM9 17H7v-7h2v7zm4 0h-2V7h2v10zm4 0h-2v-4h2v4z\"/>\n",
              "    </g>\n",
              "</svg>\n",
              "      </button>\n",
              "\n",
              "<style>\n",
              "  .colab-df-quickchart {\n",
              "      --bg-color: #E8F0FE;\n",
              "      --fill-color: #1967D2;\n",
              "      --hover-bg-color: #E2EBFA;\n",
              "      --hover-fill-color: #174EA6;\n",
              "      --disabled-fill-color: #AAA;\n",
              "      --disabled-bg-color: #DDD;\n",
              "  }\n",
              "\n",
              "  [theme=dark] .colab-df-quickchart {\n",
              "      --bg-color: #3B4455;\n",
              "      --fill-color: #D2E3FC;\n",
              "      --hover-bg-color: #434B5C;\n",
              "      --hover-fill-color: #FFFFFF;\n",
              "      --disabled-bg-color: #3B4455;\n",
              "      --disabled-fill-color: #666;\n",
              "  }\n",
              "\n",
              "  .colab-df-quickchart {\n",
              "    background-color: var(--bg-color);\n",
              "    border: none;\n",
              "    border-radius: 50%;\n",
              "    cursor: pointer;\n",
              "    display: none;\n",
              "    fill: var(--fill-color);\n",
              "    height: 32px;\n",
              "    padding: 0;\n",
              "    width: 32px;\n",
              "  }\n",
              "\n",
              "  .colab-df-quickchart:hover {\n",
              "    background-color: var(--hover-bg-color);\n",
              "    box-shadow: 0 1px 2px rgba(60, 64, 67, 0.3), 0 1px 3px 1px rgba(60, 64, 67, 0.15);\n",
              "    fill: var(--button-hover-fill-color);\n",
              "  }\n",
              "\n",
              "  .colab-df-quickchart-complete:disabled,\n",
              "  .colab-df-quickchart-complete:disabled:hover {\n",
              "    background-color: var(--disabled-bg-color);\n",
              "    fill: var(--disabled-fill-color);\n",
              "    box-shadow: none;\n",
              "  }\n",
              "\n",
              "  .colab-df-spinner {\n",
              "    border: 2px solid var(--fill-color);\n",
              "    border-color: transparent;\n",
              "    border-bottom-color: var(--fill-color);\n",
              "    animation:\n",
              "      spin 1s steps(1) infinite;\n",
              "  }\n",
              "\n",
              "  @keyframes spin {\n",
              "    0% {\n",
              "      border-color: transparent;\n",
              "      border-bottom-color: var(--fill-color);\n",
              "      border-left-color: var(--fill-color);\n",
              "    }\n",
              "    20% {\n",
              "      border-color: transparent;\n",
              "      border-left-color: var(--fill-color);\n",
              "      border-top-color: var(--fill-color);\n",
              "    }\n",
              "    30% {\n",
              "      border-color: transparent;\n",
              "      border-left-color: var(--fill-color);\n",
              "      border-top-color: var(--fill-color);\n",
              "      border-right-color: var(--fill-color);\n",
              "    }\n",
              "    40% {\n",
              "      border-color: transparent;\n",
              "      border-right-color: var(--fill-color);\n",
              "      border-top-color: var(--fill-color);\n",
              "    }\n",
              "    60% {\n",
              "      border-color: transparent;\n",
              "      border-right-color: var(--fill-color);\n",
              "    }\n",
              "    80% {\n",
              "      border-color: transparent;\n",
              "      border-right-color: var(--fill-color);\n",
              "      border-bottom-color: var(--fill-color);\n",
              "    }\n",
              "    90% {\n",
              "      border-color: transparent;\n",
              "      border-bottom-color: var(--fill-color);\n",
              "    }\n",
              "  }\n",
              "</style>\n",
              "\n",
              "      <script>\n",
              "        async function quickchart(key) {\n",
              "          const quickchartButtonEl =\n",
              "            document.querySelector('#' + key + ' button');\n",
              "          quickchartButtonEl.disabled = true;  // To prevent multiple clicks.\n",
              "          quickchartButtonEl.classList.add('colab-df-spinner');\n",
              "          try {\n",
              "            const charts = await google.colab.kernel.invokeFunction(\n",
              "                'suggestCharts', [key], {});\n",
              "          } catch (error) {\n",
              "            console.error('Error during call to suggestCharts:', error);\n",
              "          }\n",
              "          quickchartButtonEl.classList.remove('colab-df-spinner');\n",
              "          quickchartButtonEl.classList.add('colab-df-quickchart-complete');\n",
              "        }\n",
              "        (() => {\n",
              "          let quickchartButtonEl =\n",
              "            document.querySelector('#df-87ace6ca-420c-4b0a-bcdc-160da325a439 button');\n",
              "          quickchartButtonEl.style.display =\n",
              "            google.colab.kernel.accessAllowed ? 'block' : 'none';\n",
              "        })();\n",
              "      </script>\n",
              "    </div>\n",
              "\n",
              "  <div id=\"id_89aad033-f43b-4301-a031-c1f3e2685827\">\n",
              "    <style>\n",
              "      .colab-df-generate {\n",
              "        background-color: #E8F0FE;\n",
              "        border: none;\n",
              "        border-radius: 50%;\n",
              "        cursor: pointer;\n",
              "        display: none;\n",
              "        fill: #1967D2;\n",
              "        height: 32px;\n",
              "        padding: 0 0 0 0;\n",
              "        width: 32px;\n",
              "      }\n",
              "\n",
              "      .colab-df-generate:hover {\n",
              "        background-color: #E2EBFA;\n",
              "        box-shadow: 0px 1px 2px rgba(60, 64, 67, 0.3), 0px 1px 3px 1px rgba(60, 64, 67, 0.15);\n",
              "        fill: #174EA6;\n",
              "      }\n",
              "\n",
              "      [theme=dark] .colab-df-generate {\n",
              "        background-color: #3B4455;\n",
              "        fill: #D2E3FC;\n",
              "      }\n",
              "\n",
              "      [theme=dark] .colab-df-generate:hover {\n",
              "        background-color: #434B5C;\n",
              "        box-shadow: 0px 1px 3px 1px rgba(0, 0, 0, 0.15);\n",
              "        filter: drop-shadow(0px 1px 2px rgba(0, 0, 0, 0.3));\n",
              "        fill: #FFFFFF;\n",
              "      }\n",
              "    </style>\n",
              "    <button class=\"colab-df-generate\" onclick=\"generateWithVariable('df')\"\n",
              "            title=\"Generate code using this dataframe.\"\n",
              "            style=\"display:none;\">\n",
              "\n",
              "  <svg xmlns=\"http://www.w3.org/2000/svg\" height=\"24px\"viewBox=\"0 0 24 24\"\n",
              "       width=\"24px\">\n",
              "    <path d=\"M7,19H8.4L18.45,9,17,7.55,7,17.6ZM5,21V16.75L18.45,3.32a2,2,0,0,1,2.83,0l1.4,1.43a1.91,1.91,0,0,1,.58,1.4,1.91,1.91,0,0,1-.58,1.4L9.25,21ZM18.45,9,17,7.55Zm-12,3A5.31,5.31,0,0,0,4.9,8.1,5.31,5.31,0,0,0,1,6.5,5.31,5.31,0,0,0,4.9,4.9,5.31,5.31,0,0,0,6.5,1,5.31,5.31,0,0,0,8.1,4.9,5.31,5.31,0,0,0,12,6.5,5.46,5.46,0,0,0,6.5,12Z\"/>\n",
              "  </svg>\n",
              "    </button>\n",
              "    <script>\n",
              "      (() => {\n",
              "      const buttonEl =\n",
              "        document.querySelector('#id_89aad033-f43b-4301-a031-c1f3e2685827 button.colab-df-generate');\n",
              "      buttonEl.style.display =\n",
              "        google.colab.kernel.accessAllowed ? 'block' : 'none';\n",
              "\n",
              "      buttonEl.onclick = () => {\n",
              "        google.colab.notebook.generateWithVariable('df');\n",
              "      }\n",
              "      })();\n",
              "    </script>\n",
              "  </div>\n",
              "\n",
              "    </div>\n",
              "  </div>\n"
            ],
            "application/vnd.google.colaboratory.intrinsic+json": {
              "type": "dataframe",
              "variable_name": "df",
              "summary": "{\n  \"name\": \"df\",\n  \"rows\": 3018,\n  \"fields\": [\n    {\n      \"column\": \"nombre\",\n      \"properties\": {\n        \"dtype\": \"string\",\n        \"num_unique_values\": 3000,\n        \"samples\": [\n          \"Kristo Riddle\",\n          \"Rona Kornas\",\n          \"Theresita Kipling\"\n        ],\n        \"semantic_type\": \"\",\n        \"description\": \"\"\n      }\n    },\n    {\n      \"column\": \"d1\",\n      \"properties\": {\n        \"dtype\": \"number\",\n        \"std\": 0.5801328320892253,\n        \"min\": 36.0,\n        \"max\": 38.0,\n        \"num_unique_values\": 201,\n        \"samples\": [\n          37.09,\n          36.93,\n          36.81\n        ],\n        \"semantic_type\": \"\",\n        \"description\": \"\"\n      }\n    },\n    {\n      \"column\": \"d2\",\n      \"properties\": {\n        \"dtype\": \"number\",\n        \"std\": 0.5814392869446422,\n        \"min\": 36.0,\n        \"max\": 38.0,\n        \"num_unique_values\": 201,\n        \"samples\": [\n          37.5,\n          36.99,\n          36.45\n        ],\n        \"semantic_type\": \"\",\n        \"description\": \"\"\n      }\n    },\n    {\n      \"column\": \"d3\",\n      \"properties\": {\n        \"dtype\": \"number\",\n        \"std\": 0.5740853703171895,\n        \"min\": 36.0,\n        \"max\": 38.0,\n        \"num_unique_values\": 201,\n        \"samples\": [\n          36.89,\n          36.37,\n          37.42\n        ],\n        \"semantic_type\": \"\",\n        \"description\": \"\"\n      }\n    },\n    {\n      \"column\": \"d4\",\n      \"properties\": {\n        \"dtype\": \"number\",\n        \"std\": 0.5761575555501335,\n        \"min\": 36.01,\n        \"max\": 38.0,\n        \"num_unique_values\": 200,\n        \"samples\": [\n          37.52,\n          36.9,\n          37.43\n        ],\n        \"semantic_type\": \"\",\n        \"description\": \"\"\n      }\n    },\n    {\n      \"column\": \"d5\",\n      \"properties\": {\n        \"dtype\": \"number\",\n        \"std\": 0.5816391860265407,\n        \"min\": 36.0,\n        \"max\": 38.0,\n        \"num_unique_values\": 201,\n        \"samples\": [\n          36.14,\n          37.06,\n          37.68\n        ],\n        \"semantic_type\": \"\",\n        \"description\": \"\"\n      }\n    },\n    {\n      \"column\": \"d6\",\n      \"properties\": {\n        \"dtype\": \"number\",\n        \"std\": 0.5821318831060478,\n        \"min\": 36.0,\n        \"max\": 38.0,\n        \"num_unique_values\": 201,\n        \"samples\": [\n          36.06,\n          37.63,\n          36.79\n        ],\n        \"semantic_type\": \"\",\n        \"description\": \"\"\n      }\n    },\n    {\n      \"column\": \"d7\",\n      \"properties\": {\n        \"dtype\": \"number\",\n        \"std\": 0.5764554432703282,\n        \"min\": 36.0,\n        \"max\": 38.0,\n        \"num_unique_values\": 201,\n        \"samples\": [\n          36.22,\n          36.35,\n          36.64\n        ],\n        \"semantic_type\": \"\",\n        \"description\": \"\"\n      }\n    },\n    {\n      \"column\": \"d8\",\n      \"properties\": {\n        \"dtype\": \"number\",\n        \"std\": 0.5681129911939774,\n        \"min\": 36.0,\n        \"max\": 38.0,\n        \"num_unique_values\": 201,\n        \"samples\": [\n          37.36,\n          37.14,\n          36.71\n        ],\n        \"semantic_type\": \"\",\n        \"description\": \"\"\n      }\n    },\n    {\n      \"column\": \"d9\",\n      \"properties\": {\n        \"dtype\": \"number\",\n        \"std\": 0.5784285812917932,\n        \"min\": 36.0,\n        \"max\": 38.0,\n        \"num_unique_values\": 201,\n        \"samples\": [\n          36.73,\n          36.62,\n          36.86\n        ],\n        \"semantic_type\": \"\",\n        \"description\": \"\"\n      }\n    },\n    {\n      \"column\": \"d10\",\n      \"properties\": {\n        \"dtype\": \"number\",\n        \"std\": 0.5781914325257379,\n        \"min\": 36.0,\n        \"max\": 38.0,\n        \"num_unique_values\": 201,\n        \"samples\": [\n          37.74,\n          36.53,\n          36.05\n        ],\n        \"semantic_type\": \"\",\n        \"description\": \"\"\n      }\n    }\n  ]\n}"
            }
          },
          "metadata": {},
          "execution_count": 25
        }
      ]
    },
    {
      "cell_type": "markdown",
      "source": [
        "###1.2) Exploración preliminar\n",
        "Los métodos de exploración son esenciales para obtener una comprensión inicial de los datos y su estructura.\n",
        "Algunos de los métodos más utilizados son:\n",
        "* `df.head(n)`: muestra las primeras n filas del dataframe (por defecto n = 5).\n",
        "* `df.tail(n)`: muestra las últimas n filas del dataframe.\n",
        "* `df.info()`: proporciona un resumen del dataframe.\n",
        "* `df.describe()`: genera estadísticas que veremos más adelante.\n",
        "* `df.shape`: devuelve una tupla que contiene el número de filas y columnas del dataframe.\n",
        "* `df.columns`: devuelve una lista de los nombre de las columnas del dataframe.\n",
        "* `df.index`: devuelve los índices del dataframe.\n",
        "* `df.dtypes`: devuelve los tipos de datos de cada columna.\n",
        "* `df.isnull()`: devuelve un dataframe booleano que indica si hay valores nulos en el dataframe. Tiene una función inversa: `df.notnull()`.\n",
        "* `df.value_counts()`: cuenta las ocurrencias de los valores de una serie.\n",
        "* `df.unique()`: devuelve los valores únicos de una columna.\n",
        "* `df.sample(n)`: devuelve una muestra aleatoria de n filas"
      ],
      "metadata": {
        "id": "bwyEJs8THW4X"
      }
    },
    {
      "cell_type": "code",
      "source": [
        "# Muestra de los 4 primeros registros\n",
        "df.head(4)"
      ],
      "metadata": {
        "id": "_0bgamCfHee5"
      },
      "execution_count": null,
      "outputs": []
    },
    {
      "cell_type": "code",
      "source": [
        "# Muestra de los últimos 6 registros\n",
        "df.tail(6)"
      ],
      "metadata": {
        "id": "JXIm_-EJp80i"
      },
      "execution_count": null,
      "outputs": []
    },
    {
      "cell_type": "code",
      "source": [
        "# Muestra los nombres de las columnas, cuántos valores hay en cada una, y qué tipo de dato contiene\n",
        "df.info()"
      ],
      "metadata": {
        "id": "YgFnORJnp_Dz"
      },
      "execution_count": null,
      "outputs": []
    },
    {
      "cell_type": "code",
      "source": [
        "# Muestra el resumen estadístico de las columnas. Conteo, promedio, mínimo y máximo...\n",
        "df.describe()"
      ],
      "metadata": {
        "id": "WlVUpaaGqBN8"
      },
      "execution_count": null,
      "outputs": []
    },
    {
      "cell_type": "code",
      "source": [
        "# Cantidad de registros y columnas\n",
        "df.shape"
      ],
      "metadata": {
        "id": "Uy9l4VUMqDdV",
        "colab": {
          "base_uri": "https://localhost:8080/"
        },
        "outputId": "610ea563-4a71-4abc-95a4-6421581e62d7"
      },
      "execution_count": null,
      "outputs": [
        {
          "output_type": "execute_result",
          "data": {
            "text/plain": [
              "(3018, 11)"
            ]
          },
          "metadata": {},
          "execution_count": 33
        }
      ]
    },
    {
      "cell_type": "code",
      "source": [
        "# Nombres de las columnas\n",
        "df.columns"
      ],
      "metadata": {
        "id": "f9a0Ay2iqESu",
        "colab": {
          "base_uri": "https://localhost:8080/"
        },
        "outputId": "5dff3d62-6080-4bfd-8b8d-d129efdf196b"
      },
      "execution_count": null,
      "outputs": [
        {
          "output_type": "execute_result",
          "data": {
            "text/plain": [
              "Index(['nombre', 'd1', 'd2', 'd3', 'd4', 'd5', 'd6', 'd7', 'd8', 'd9', 'd10'], dtype='object')"
            ]
          },
          "metadata": {},
          "execution_count": 29
        }
      ]
    },
    {
      "cell_type": "code",
      "source": [
        "# Rango de los índices\n",
        "df.index"
      ],
      "metadata": {
        "id": "kMYUx3VZqHvo",
        "colab": {
          "base_uri": "https://localhost:8080/"
        },
        "outputId": "4f977ad9-2731-46c9-94f6-6f026c93bfd4"
      },
      "execution_count": null,
      "outputs": [
        {
          "output_type": "execute_result",
          "data": {
            "text/plain": [
              "RangeIndex(start=0, stop=3018, step=1)"
            ]
          },
          "metadata": {},
          "execution_count": 32
        }
      ]
    },
    {
      "cell_type": "code",
      "source": [
        "# Tipo de dato que hay en cada columna\n",
        "df.dtypes"
      ],
      "metadata": {
        "id": "cH4mxz1kqJbo"
      },
      "execution_count": null,
      "outputs": []
    },
    {
      "cell_type": "code",
      "source": [
        "# Un dataframe que muestra True donde falta el dato\n",
        "df.isnull()"
      ],
      "metadata": {
        "id": "x2CZTmAuqLHC"
      },
      "execution_count": null,
      "outputs": []
    },
    {
      "cell_type": "code",
      "source": [
        "# Muestra cuántas veces se repiten los valores en cada columna\n",
        "df['d4'].value_counts()\n",
        "\n",
        "#df1=df.value_counts()>=2\n",
        "#df1.sum()"
      ],
      "metadata": {
        "id": "Z6Hm1FEKqMZq",
        "outputId": "cd70956d-c5a7-4797-a42c-66a094ef5dd2",
        "colab": {
          "base_uri": "https://localhost:8080/"
        }
      },
      "execution_count": 78,
      "outputs": [
        {
          "output_type": "execute_result",
          "data": {
            "text/plain": [
              "np.int64(10)"
            ]
          },
          "metadata": {},
          "execution_count": 78
        }
      ]
    },
    {
      "cell_type": "code",
      "source": [
        "# Muestra los valores de una columna, sin repetidos\n",
        "df['d1'].unique()"
      ],
      "metadata": {
        "id": "IbpOi63CqNuL",
        "outputId": "2be4b7a9-da5c-4fca-bb2c-0e184c22fc02",
        "colab": {
          "base_uri": "https://localhost:8080/"
        }
      },
      "execution_count": 69,
      "outputs": [
        {
          "output_type": "execute_result",
          "data": {
            "text/plain": [
              "array([36.85, 36.06, 36.89, 36.5 , 37.9 , 36.47, 36.27, 37.59, 36.72,\n",
              "       36.32, 36.79, 36.02, 37.23, 36.24, 36.73, 36.93, 37.76, 36.16,\n",
              "       37.81, 37.31, 36.25, 36.23, 36.04, 36.97, 37.52, 36.77,   nan,\n",
              "       37.48, 36.36, 36.12, 37.2 , 36.81, 37.43, 37.02, 36.52, 37.98,\n",
              "       37.46, 36.55, 37.45, 36.07, 37.05, 36.91, 36.41, 36.05, 36.96,\n",
              "       36.  , 36.11, 37.75, 37.87, 37.88, 37.63, 37.15, 36.49, 36.3 ,\n",
              "       37.97, 38.  , 37.64, 37.41, 36.53, 36.68, 37.58, 37.55, 37.77,\n",
              "       37.83, 36.33, 36.82, 36.98, 37.69, 36.29, 36.67, 37.65, 37.16,\n",
              "       36.95, 37.71, 37.68, 37.86, 36.87, 36.48, 37.91, 36.61, 37.32,\n",
              "       37.5 , 36.39, 37.18, 36.4 , 37.82, 36.03, 37.33, 37.84, 37.17,\n",
              "       36.21, 37.51, 37.57, 37.78, 36.08, 37.99, 37.09, 36.84, 37.53,\n",
              "       36.56, 37.44, 36.09, 37.34, 36.15, 36.64, 36.17, 36.63, 37.73,\n",
              "       36.92, 36.1 , 37.1 , 37.24, 36.51, 36.76, 36.86, 36.75, 36.65,\n",
              "       37.7 , 37.29, 36.8 , 37.42, 36.38, 37.94, 36.46, 37.39, 36.71,\n",
              "       37.11, 37.25, 37.08, 36.83, 37.4 , 36.78, 36.37, 37.89, 37.12,\n",
              "       37.6 , 37.3 , 36.45, 36.28, 36.99, 37.35, 37.22, 36.34, 37.92,\n",
              "       36.69, 36.74, 37.79, 37.19, 36.88, 37.54, 37.27, 36.62, 36.59,\n",
              "       36.22, 36.57, 37.13, 36.6 , 37.62, 37.67, 36.14, 36.43, 36.31,\n",
              "       37.93, 37.07, 37.74, 37.66, 37.95, 36.19, 37.01, 37.38, 36.54,\n",
              "       36.42, 36.2 , 37.03, 36.13, 37.56, 36.58, 36.9 , 36.01, 37.06,\n",
              "       37.04, 36.44, 37.21, 36.7 , 37.26, 37.28, 37.49, 37.36, 37.72,\n",
              "       36.66, 36.18, 37.  , 36.35, 37.47, 36.94, 37.8 , 37.96, 37.37,\n",
              "       37.14, 37.85, 37.61, 36.26])"
            ]
          },
          "metadata": {},
          "execution_count": 69
        }
      ]
    },
    {
      "cell_type": "code",
      "source": [
        "# Muestra aleatoria de 10 registros\n",
        "df.sample(10)"
      ],
      "metadata": {
        "id": "Hf0-LW7PqPN7"
      },
      "execution_count": null,
      "outputs": []
    },
    {
      "cell_type": "markdown",
      "source": [
        "❓ ¿Podrías decir si hay valores nulos en este dataframe?\n",
        "\n",
        "✨ En un primer análisis, ya podemos decir que hay valores nulos:\n",
        "tanto `shape` como `index` indican que hay 3018 registros, pero `info()` nos da la pauta de que la única columna que no tiene valores nulos es la de nombres."
      ],
      "metadata": {
        "id": "6sZmSKrPslH6"
      }
    },
    {
      "cell_type": "markdown",
      "source": [
        "###2) Ubicar datos duplicados y nulos"
      ],
      "metadata": {
        "id": "9me7CgPtHfLB"
      }
    },
    {
      "cell_type": "markdown",
      "source": [
        "#### Duplicados\n",
        "Para trabajar con datos duplicados, el método principal es `duplicated()` que devuelve un valor booleano por cada fila, indicando si es duplicado o no. Devuelve `True`, si una fila es duplicado de alguna anterior.\n",
        "* Con el parámetro `subset`, permite buscar duplicados en columnas específicas.\n",
        "* Combinada con otras funciones, podemos obtener más resultados, por ejemplo, `df.duplicated().sum()` cuenta  la cantidad de filas duplicadas\n"
      ],
      "metadata": {
        "id": "C5Kyy6S64-R_"
      }
    },
    {
      "cell_type": "code",
      "source": [
        "# Saber cuáles filas son duplicado\n",
        "df.duplicated()\n",
        "# df.duplicated().sum()"
      ],
      "metadata": {
        "id": "Tt0AeU6ZnU87"
      },
      "execution_count": null,
      "outputs": []
    },
    {
      "cell_type": "code",
      "source": [
        "# Saber si las columnas d4, d5 y d6 tienen valos duplicados\n",
        "df.duplicated(subset=[\"d4\",\"d5\",\"d6\"])\n",
        "#df.duplicated(subset=[\"d4\",\"d5\",\"d6\"]).sum()\n",
        "\n",
        "# es más eficiente q hacer:\n",
        "# df[['d4','d5','d6']].duplicated()"
      ],
      "metadata": {
        "id": "u93-T-K79bt1"
      },
      "execution_count": null,
      "outputs": []
    },
    {
      "cell_type": "markdown",
      "source": [
        "#### Nulos\n",
        "El método isnull() nos ofrece un dataframe con valores booleanos. Esta función puede combinarse con otras, para obtener diferentes resultados:\n",
        "\n",
        "* Gracias al tipado dinámico de python, los valores booleanos se traducen automáticamente a 1 y 0, en caso de que alguna función lo requiera. Entonces, podemos utilizar la función sum() para obtener la cantidad de valores nulos en cada columna.\n",
        "* any() se puede utilizar para verificar si hay valores nulos en filas (axis = 1) o columnas."
      ],
      "metadata": {
        "id": "e3-5TciJ5BFw"
      }
    },
    {
      "cell_type": "code",
      "source": [
        "# Cantidad de valores nulos\n",
        "df.isnull().sum()"
      ],
      "metadata": {
        "id": "n8vmwgwq5Dr6"
      },
      "execution_count": null,
      "outputs": []
    },
    {
      "cell_type": "code",
      "source": [
        "# Nulos\n",
        "df.isnull().any() # en columnas\n",
        "#df.isnull().any(axis = 1) # en filas (podremos saber qué registros tienen completos sus datos)"
      ],
      "metadata": {
        "id": "RftKgveJ6QYh",
        "colab": {
          "base_uri": "https://localhost:8080/",
          "height": 429
        },
        "outputId": "8776f8aa-d937-417c-b895-db42b945f392"
      },
      "execution_count": null,
      "outputs": [
        {
          "output_type": "execute_result",
          "data": {
            "text/plain": [
              "nombre    False\n",
              "d1         True\n",
              "d2         True\n",
              "d3         True\n",
              "d4         True\n",
              "d5         True\n",
              "d6         True\n",
              "d7         True\n",
              "d8         True\n",
              "d9         True\n",
              "d10        True\n",
              "dtype: bool"
            ],
            "text/html": [
              "<div>\n",
              "<style scoped>\n",
              "    .dataframe tbody tr th:only-of-type {\n",
              "        vertical-align: middle;\n",
              "    }\n",
              "\n",
              "    .dataframe tbody tr th {\n",
              "        vertical-align: top;\n",
              "    }\n",
              "\n",
              "    .dataframe thead th {\n",
              "        text-align: right;\n",
              "    }\n",
              "</style>\n",
              "<table border=\"1\" class=\"dataframe\">\n",
              "  <thead>\n",
              "    <tr style=\"text-align: right;\">\n",
              "      <th></th>\n",
              "      <th>0</th>\n",
              "    </tr>\n",
              "  </thead>\n",
              "  <tbody>\n",
              "    <tr>\n",
              "      <th>nombre</th>\n",
              "      <td>False</td>\n",
              "    </tr>\n",
              "    <tr>\n",
              "      <th>d1</th>\n",
              "      <td>True</td>\n",
              "    </tr>\n",
              "    <tr>\n",
              "      <th>d2</th>\n",
              "      <td>True</td>\n",
              "    </tr>\n",
              "    <tr>\n",
              "      <th>d3</th>\n",
              "      <td>True</td>\n",
              "    </tr>\n",
              "    <tr>\n",
              "      <th>d4</th>\n",
              "      <td>True</td>\n",
              "    </tr>\n",
              "    <tr>\n",
              "      <th>d5</th>\n",
              "      <td>True</td>\n",
              "    </tr>\n",
              "    <tr>\n",
              "      <th>d6</th>\n",
              "      <td>True</td>\n",
              "    </tr>\n",
              "    <tr>\n",
              "      <th>d7</th>\n",
              "      <td>True</td>\n",
              "    </tr>\n",
              "    <tr>\n",
              "      <th>d8</th>\n",
              "      <td>True</td>\n",
              "    </tr>\n",
              "    <tr>\n",
              "      <th>d9</th>\n",
              "      <td>True</td>\n",
              "    </tr>\n",
              "    <tr>\n",
              "      <th>d10</th>\n",
              "      <td>True</td>\n",
              "    </tr>\n",
              "  </tbody>\n",
              "</table>\n",
              "</div><br><label><b>dtype:</b> bool</label>"
            ]
          },
          "metadata": {},
          "execution_count": 41
        }
      ]
    },
    {
      "cell_type": "markdown",
      "source": [
        "💡 Podemos filtrar el dataframe para mostrar sólo las filas que contienen valores nulos en una columna específica.\n",
        "La sintaxis es la siguiente: `df[df[\"columna\"].isnull()]`"
      ],
      "metadata": {
        "id": "6-ESytit7JMY"
      }
    },
    {
      "cell_type": "code",
      "source": [
        "# Obtenemos los registros que tengan valores nulos en el día 7\n",
        "df[df[\"d7\"].isnull()]"
      ],
      "metadata": {
        "id": "rslVR7y_7DI9",
        "colab": {
          "base_uri": "https://localhost:8080/",
          "height": 423
        },
        "outputId": "24baf475-e38d-4e59-b254-efdb8188d245"
      },
      "execution_count": 79,
      "outputs": [
        {
          "output_type": "execute_result",
          "data": {
            "text/plain": [
              "                 nombre     d1     d2     d3     d4     d5     d6  d7     d8  \\\n",
              "22      Kellsie Donahue  36.23  37.71  36.50    NaN  37.67  37.83 NaN  36.02   \n",
              "49       Sonya Seignior  37.76  36.67  37.83  36.54  37.79  37.35 NaN  37.34   \n",
              "69       Cherey Frenzel    NaN  37.90  36.00  37.02  36.13  37.94 NaN    NaN   \n",
              "159     Nerita Moorhead  36.15  37.97  37.97  37.69  36.02  36.25 NaN  36.86   \n",
              "179     Harmony Becerro  36.91  36.04  37.18  37.19  36.96    NaN NaN  37.03   \n",
              "...                 ...    ...    ...    ...    ...    ...    ...  ..    ...   \n",
              "2955    Evangeline Vaux  36.44  37.76  36.55    NaN  36.06  37.74 NaN  37.92   \n",
              "2957  Terrie Pettingall  37.86  37.36  36.37  37.94  36.73  37.20 NaN  37.26   \n",
              "2965    Jarrett Meagher  37.07  36.64  36.95  36.51  36.62  36.06 NaN  37.14   \n",
              "2986   Reginauld Verdie  37.52  37.84  37.67  36.56  36.19  37.22 NaN  37.98   \n",
              "3014     Marnia Carillo    NaN  36.93  36.47  38.00  37.94  36.93 NaN  36.01   \n",
              "\n",
              "         d9    d10  \n",
              "22    37.84  36.84  \n",
              "49    37.44  37.55  \n",
              "69    37.13  37.78  \n",
              "159   36.71  36.30  \n",
              "179   36.56  37.98  \n",
              "...     ...    ...  \n",
              "2955  37.65  36.28  \n",
              "2957  37.34  36.71  \n",
              "2965  36.04  36.48  \n",
              "2986  36.41  36.00  \n",
              "3014  37.02  37.51  \n",
              "\n",
              "[154 rows x 11 columns]"
            ],
            "text/html": [
              "\n",
              "  <div id=\"df-22149905-0e63-4773-8e6a-3fd17bedfbfe\" class=\"colab-df-container\">\n",
              "    <div>\n",
              "<style scoped>\n",
              "    .dataframe tbody tr th:only-of-type {\n",
              "        vertical-align: middle;\n",
              "    }\n",
              "\n",
              "    .dataframe tbody tr th {\n",
              "        vertical-align: top;\n",
              "    }\n",
              "\n",
              "    .dataframe thead th {\n",
              "        text-align: right;\n",
              "    }\n",
              "</style>\n",
              "<table border=\"1\" class=\"dataframe\">\n",
              "  <thead>\n",
              "    <tr style=\"text-align: right;\">\n",
              "      <th></th>\n",
              "      <th>nombre</th>\n",
              "      <th>d1</th>\n",
              "      <th>d2</th>\n",
              "      <th>d3</th>\n",
              "      <th>d4</th>\n",
              "      <th>d5</th>\n",
              "      <th>d6</th>\n",
              "      <th>d7</th>\n",
              "      <th>d8</th>\n",
              "      <th>d9</th>\n",
              "      <th>d10</th>\n",
              "    </tr>\n",
              "  </thead>\n",
              "  <tbody>\n",
              "    <tr>\n",
              "      <th>22</th>\n",
              "      <td>Kellsie Donahue</td>\n",
              "      <td>36.23</td>\n",
              "      <td>37.71</td>\n",
              "      <td>36.50</td>\n",
              "      <td>NaN</td>\n",
              "      <td>37.67</td>\n",
              "      <td>37.83</td>\n",
              "      <td>NaN</td>\n",
              "      <td>36.02</td>\n",
              "      <td>37.84</td>\n",
              "      <td>36.84</td>\n",
              "    </tr>\n",
              "    <tr>\n",
              "      <th>49</th>\n",
              "      <td>Sonya Seignior</td>\n",
              "      <td>37.76</td>\n",
              "      <td>36.67</td>\n",
              "      <td>37.83</td>\n",
              "      <td>36.54</td>\n",
              "      <td>37.79</td>\n",
              "      <td>37.35</td>\n",
              "      <td>NaN</td>\n",
              "      <td>37.34</td>\n",
              "      <td>37.44</td>\n",
              "      <td>37.55</td>\n",
              "    </tr>\n",
              "    <tr>\n",
              "      <th>69</th>\n",
              "      <td>Cherey Frenzel</td>\n",
              "      <td>NaN</td>\n",
              "      <td>37.90</td>\n",
              "      <td>36.00</td>\n",
              "      <td>37.02</td>\n",
              "      <td>36.13</td>\n",
              "      <td>37.94</td>\n",
              "      <td>NaN</td>\n",
              "      <td>NaN</td>\n",
              "      <td>37.13</td>\n",
              "      <td>37.78</td>\n",
              "    </tr>\n",
              "    <tr>\n",
              "      <th>159</th>\n",
              "      <td>Nerita Moorhead</td>\n",
              "      <td>36.15</td>\n",
              "      <td>37.97</td>\n",
              "      <td>37.97</td>\n",
              "      <td>37.69</td>\n",
              "      <td>36.02</td>\n",
              "      <td>36.25</td>\n",
              "      <td>NaN</td>\n",
              "      <td>36.86</td>\n",
              "      <td>36.71</td>\n",
              "      <td>36.30</td>\n",
              "    </tr>\n",
              "    <tr>\n",
              "      <th>179</th>\n",
              "      <td>Harmony Becerro</td>\n",
              "      <td>36.91</td>\n",
              "      <td>36.04</td>\n",
              "      <td>37.18</td>\n",
              "      <td>37.19</td>\n",
              "      <td>36.96</td>\n",
              "      <td>NaN</td>\n",
              "      <td>NaN</td>\n",
              "      <td>37.03</td>\n",
              "      <td>36.56</td>\n",
              "      <td>37.98</td>\n",
              "    </tr>\n",
              "    <tr>\n",
              "      <th>...</th>\n",
              "      <td>...</td>\n",
              "      <td>...</td>\n",
              "      <td>...</td>\n",
              "      <td>...</td>\n",
              "      <td>...</td>\n",
              "      <td>...</td>\n",
              "      <td>...</td>\n",
              "      <td>...</td>\n",
              "      <td>...</td>\n",
              "      <td>...</td>\n",
              "      <td>...</td>\n",
              "    </tr>\n",
              "    <tr>\n",
              "      <th>2955</th>\n",
              "      <td>Evangeline Vaux</td>\n",
              "      <td>36.44</td>\n",
              "      <td>37.76</td>\n",
              "      <td>36.55</td>\n",
              "      <td>NaN</td>\n",
              "      <td>36.06</td>\n",
              "      <td>37.74</td>\n",
              "      <td>NaN</td>\n",
              "      <td>37.92</td>\n",
              "      <td>37.65</td>\n",
              "      <td>36.28</td>\n",
              "    </tr>\n",
              "    <tr>\n",
              "      <th>2957</th>\n",
              "      <td>Terrie Pettingall</td>\n",
              "      <td>37.86</td>\n",
              "      <td>37.36</td>\n",
              "      <td>36.37</td>\n",
              "      <td>37.94</td>\n",
              "      <td>36.73</td>\n",
              "      <td>37.20</td>\n",
              "      <td>NaN</td>\n",
              "      <td>37.26</td>\n",
              "      <td>37.34</td>\n",
              "      <td>36.71</td>\n",
              "    </tr>\n",
              "    <tr>\n",
              "      <th>2965</th>\n",
              "      <td>Jarrett Meagher</td>\n",
              "      <td>37.07</td>\n",
              "      <td>36.64</td>\n",
              "      <td>36.95</td>\n",
              "      <td>36.51</td>\n",
              "      <td>36.62</td>\n",
              "      <td>36.06</td>\n",
              "      <td>NaN</td>\n",
              "      <td>37.14</td>\n",
              "      <td>36.04</td>\n",
              "      <td>36.48</td>\n",
              "    </tr>\n",
              "    <tr>\n",
              "      <th>2986</th>\n",
              "      <td>Reginauld Verdie</td>\n",
              "      <td>37.52</td>\n",
              "      <td>37.84</td>\n",
              "      <td>37.67</td>\n",
              "      <td>36.56</td>\n",
              "      <td>36.19</td>\n",
              "      <td>37.22</td>\n",
              "      <td>NaN</td>\n",
              "      <td>37.98</td>\n",
              "      <td>36.41</td>\n",
              "      <td>36.00</td>\n",
              "    </tr>\n",
              "    <tr>\n",
              "      <th>3014</th>\n",
              "      <td>Marnia Carillo</td>\n",
              "      <td>NaN</td>\n",
              "      <td>36.93</td>\n",
              "      <td>36.47</td>\n",
              "      <td>38.00</td>\n",
              "      <td>37.94</td>\n",
              "      <td>36.93</td>\n",
              "      <td>NaN</td>\n",
              "      <td>36.01</td>\n",
              "      <td>37.02</td>\n",
              "      <td>37.51</td>\n",
              "    </tr>\n",
              "  </tbody>\n",
              "</table>\n",
              "<p>154 rows × 11 columns</p>\n",
              "</div>\n",
              "    <div class=\"colab-df-buttons\">\n",
              "\n",
              "  <div class=\"colab-df-container\">\n",
              "    <button class=\"colab-df-convert\" onclick=\"convertToInteractive('df-22149905-0e63-4773-8e6a-3fd17bedfbfe')\"\n",
              "            title=\"Convert this dataframe to an interactive table.\"\n",
              "            style=\"display:none;\">\n",
              "\n",
              "  <svg xmlns=\"http://www.w3.org/2000/svg\" height=\"24px\" viewBox=\"0 -960 960 960\">\n",
              "    <path d=\"M120-120v-720h720v720H120Zm60-500h600v-160H180v160Zm220 220h160v-160H400v160Zm0 220h160v-160H400v160ZM180-400h160v-160H180v160Zm440 0h160v-160H620v160ZM180-180h160v-160H180v160Zm440 0h160v-160H620v160Z\"/>\n",
              "  </svg>\n",
              "    </button>\n",
              "\n",
              "  <style>\n",
              "    .colab-df-container {\n",
              "      display:flex;\n",
              "      gap: 12px;\n",
              "    }\n",
              "\n",
              "    .colab-df-convert {\n",
              "      background-color: #E8F0FE;\n",
              "      border: none;\n",
              "      border-radius: 50%;\n",
              "      cursor: pointer;\n",
              "      display: none;\n",
              "      fill: #1967D2;\n",
              "      height: 32px;\n",
              "      padding: 0 0 0 0;\n",
              "      width: 32px;\n",
              "    }\n",
              "\n",
              "    .colab-df-convert:hover {\n",
              "      background-color: #E2EBFA;\n",
              "      box-shadow: 0px 1px 2px rgba(60, 64, 67, 0.3), 0px 1px 3px 1px rgba(60, 64, 67, 0.15);\n",
              "      fill: #174EA6;\n",
              "    }\n",
              "\n",
              "    .colab-df-buttons div {\n",
              "      margin-bottom: 4px;\n",
              "    }\n",
              "\n",
              "    [theme=dark] .colab-df-convert {\n",
              "      background-color: #3B4455;\n",
              "      fill: #D2E3FC;\n",
              "    }\n",
              "\n",
              "    [theme=dark] .colab-df-convert:hover {\n",
              "      background-color: #434B5C;\n",
              "      box-shadow: 0px 1px 3px 1px rgba(0, 0, 0, 0.15);\n",
              "      filter: drop-shadow(0px 1px 2px rgba(0, 0, 0, 0.3));\n",
              "      fill: #FFFFFF;\n",
              "    }\n",
              "  </style>\n",
              "\n",
              "    <script>\n",
              "      const buttonEl =\n",
              "        document.querySelector('#df-22149905-0e63-4773-8e6a-3fd17bedfbfe button.colab-df-convert');\n",
              "      buttonEl.style.display =\n",
              "        google.colab.kernel.accessAllowed ? 'block' : 'none';\n",
              "\n",
              "      async function convertToInteractive(key) {\n",
              "        const element = document.querySelector('#df-22149905-0e63-4773-8e6a-3fd17bedfbfe');\n",
              "        const dataTable =\n",
              "          await google.colab.kernel.invokeFunction('convertToInteractive',\n",
              "                                                    [key], {});\n",
              "        if (!dataTable) return;\n",
              "\n",
              "        const docLinkHtml = 'Like what you see? Visit the ' +\n",
              "          '<a target=\"_blank\" href=https://colab.research.google.com/notebooks/data_table.ipynb>data table notebook</a>'\n",
              "          + ' to learn more about interactive tables.';\n",
              "        element.innerHTML = '';\n",
              "        dataTable['output_type'] = 'display_data';\n",
              "        await google.colab.output.renderOutput(dataTable, element);\n",
              "        const docLink = document.createElement('div');\n",
              "        docLink.innerHTML = docLinkHtml;\n",
              "        element.appendChild(docLink);\n",
              "      }\n",
              "    </script>\n",
              "  </div>\n",
              "\n",
              "\n",
              "    <div id=\"df-158cb984-7314-4943-8515-89b31481f9c3\">\n",
              "      <button class=\"colab-df-quickchart\" onclick=\"quickchart('df-158cb984-7314-4943-8515-89b31481f9c3')\"\n",
              "                title=\"Suggest charts\"\n",
              "                style=\"display:none;\">\n",
              "\n",
              "<svg xmlns=\"http://www.w3.org/2000/svg\" height=\"24px\"viewBox=\"0 0 24 24\"\n",
              "     width=\"24px\">\n",
              "    <g>\n",
              "        <path d=\"M19 3H5c-1.1 0-2 .9-2 2v14c0 1.1.9 2 2 2h14c1.1 0 2-.9 2-2V5c0-1.1-.9-2-2-2zM9 17H7v-7h2v7zm4 0h-2V7h2v10zm4 0h-2v-4h2v4z\"/>\n",
              "    </g>\n",
              "</svg>\n",
              "      </button>\n",
              "\n",
              "<style>\n",
              "  .colab-df-quickchart {\n",
              "      --bg-color: #E8F0FE;\n",
              "      --fill-color: #1967D2;\n",
              "      --hover-bg-color: #E2EBFA;\n",
              "      --hover-fill-color: #174EA6;\n",
              "      --disabled-fill-color: #AAA;\n",
              "      --disabled-bg-color: #DDD;\n",
              "  }\n",
              "\n",
              "  [theme=dark] .colab-df-quickchart {\n",
              "      --bg-color: #3B4455;\n",
              "      --fill-color: #D2E3FC;\n",
              "      --hover-bg-color: #434B5C;\n",
              "      --hover-fill-color: #FFFFFF;\n",
              "      --disabled-bg-color: #3B4455;\n",
              "      --disabled-fill-color: #666;\n",
              "  }\n",
              "\n",
              "  .colab-df-quickchart {\n",
              "    background-color: var(--bg-color);\n",
              "    border: none;\n",
              "    border-radius: 50%;\n",
              "    cursor: pointer;\n",
              "    display: none;\n",
              "    fill: var(--fill-color);\n",
              "    height: 32px;\n",
              "    padding: 0;\n",
              "    width: 32px;\n",
              "  }\n",
              "\n",
              "  .colab-df-quickchart:hover {\n",
              "    background-color: var(--hover-bg-color);\n",
              "    box-shadow: 0 1px 2px rgba(60, 64, 67, 0.3), 0 1px 3px 1px rgba(60, 64, 67, 0.15);\n",
              "    fill: var(--button-hover-fill-color);\n",
              "  }\n",
              "\n",
              "  .colab-df-quickchart-complete:disabled,\n",
              "  .colab-df-quickchart-complete:disabled:hover {\n",
              "    background-color: var(--disabled-bg-color);\n",
              "    fill: var(--disabled-fill-color);\n",
              "    box-shadow: none;\n",
              "  }\n",
              "\n",
              "  .colab-df-spinner {\n",
              "    border: 2px solid var(--fill-color);\n",
              "    border-color: transparent;\n",
              "    border-bottom-color: var(--fill-color);\n",
              "    animation:\n",
              "      spin 1s steps(1) infinite;\n",
              "  }\n",
              "\n",
              "  @keyframes spin {\n",
              "    0% {\n",
              "      border-color: transparent;\n",
              "      border-bottom-color: var(--fill-color);\n",
              "      border-left-color: var(--fill-color);\n",
              "    }\n",
              "    20% {\n",
              "      border-color: transparent;\n",
              "      border-left-color: var(--fill-color);\n",
              "      border-top-color: var(--fill-color);\n",
              "    }\n",
              "    30% {\n",
              "      border-color: transparent;\n",
              "      border-left-color: var(--fill-color);\n",
              "      border-top-color: var(--fill-color);\n",
              "      border-right-color: var(--fill-color);\n",
              "    }\n",
              "    40% {\n",
              "      border-color: transparent;\n",
              "      border-right-color: var(--fill-color);\n",
              "      border-top-color: var(--fill-color);\n",
              "    }\n",
              "    60% {\n",
              "      border-color: transparent;\n",
              "      border-right-color: var(--fill-color);\n",
              "    }\n",
              "    80% {\n",
              "      border-color: transparent;\n",
              "      border-right-color: var(--fill-color);\n",
              "      border-bottom-color: var(--fill-color);\n",
              "    }\n",
              "    90% {\n",
              "      border-color: transparent;\n",
              "      border-bottom-color: var(--fill-color);\n",
              "    }\n",
              "  }\n",
              "</style>\n",
              "\n",
              "      <script>\n",
              "        async function quickchart(key) {\n",
              "          const quickchartButtonEl =\n",
              "            document.querySelector('#' + key + ' button');\n",
              "          quickchartButtonEl.disabled = true;  // To prevent multiple clicks.\n",
              "          quickchartButtonEl.classList.add('colab-df-spinner');\n",
              "          try {\n",
              "            const charts = await google.colab.kernel.invokeFunction(\n",
              "                'suggestCharts', [key], {});\n",
              "          } catch (error) {\n",
              "            console.error('Error during call to suggestCharts:', error);\n",
              "          }\n",
              "          quickchartButtonEl.classList.remove('colab-df-spinner');\n",
              "          quickchartButtonEl.classList.add('colab-df-quickchart-complete');\n",
              "        }\n",
              "        (() => {\n",
              "          let quickchartButtonEl =\n",
              "            document.querySelector('#df-158cb984-7314-4943-8515-89b31481f9c3 button');\n",
              "          quickchartButtonEl.style.display =\n",
              "            google.colab.kernel.accessAllowed ? 'block' : 'none';\n",
              "        })();\n",
              "      </script>\n",
              "    </div>\n",
              "\n",
              "    </div>\n",
              "  </div>\n"
            ],
            "application/vnd.google.colaboratory.intrinsic+json": {
              "type": "dataframe",
              "summary": "{\n  \"name\": \"df[df[\\\"d7\\\"]\",\n  \"rows\": 154,\n  \"fields\": [\n    {\n      \"column\": \"nombre\",\n      \"properties\": {\n        \"dtype\": \"string\",\n        \"num_unique_values\": 154,\n        \"samples\": [\n          \"Colver Prene\",\n          \"Lindon Argile\",\n          \"Reginauld Verdie\"\n        ],\n        \"semantic_type\": \"\",\n        \"description\": \"\"\n      }\n    },\n    {\n      \"column\": \"d1\",\n      \"properties\": {\n        \"dtype\": \"number\",\n        \"std\": 0.569451239544031,\n        \"min\": 36.02,\n        \"max\": 37.99,\n        \"num_unique_values\": 105,\n        \"samples\": [\n          37.2,\n          36.14,\n          37.82\n        ],\n        \"semantic_type\": \"\",\n        \"description\": \"\"\n      }\n    },\n    {\n      \"column\": \"d2\",\n      \"properties\": {\n        \"dtype\": \"number\",\n        \"std\": 0.5688388250778128,\n        \"min\": 36.0,\n        \"max\": 38.0,\n        \"num_unique_values\": 99,\n        \"samples\": [\n          36.29,\n          37.96,\n          37.26\n        ],\n        \"semantic_type\": \"\",\n        \"description\": \"\"\n      }\n    },\n    {\n      \"column\": \"d3\",\n      \"properties\": {\n        \"dtype\": \"number\",\n        \"std\": 0.5811513501903427,\n        \"min\": 36.0,\n        \"max\": 38.0,\n        \"num_unique_values\": 99,\n        \"samples\": [\n          37.53,\n          37.24,\n          37.68\n        ],\n        \"semantic_type\": \"\",\n        \"description\": \"\"\n      }\n    },\n    {\n      \"column\": \"d4\",\n      \"properties\": {\n        \"dtype\": \"number\",\n        \"std\": 0.564224252484948,\n        \"min\": 36.01,\n        \"max\": 38.0,\n        \"num_unique_values\": 98,\n        \"samples\": [\n          36.91,\n          37.84,\n          36.41\n        ],\n        \"semantic_type\": \"\",\n        \"description\": \"\"\n      }\n    },\n    {\n      \"column\": \"d5\",\n      \"properties\": {\n        \"dtype\": \"number\",\n        \"std\": 0.5955695779922632,\n        \"min\": 36.0,\n        \"max\": 37.97,\n        \"num_unique_values\": 106,\n        \"samples\": [\n          37.97,\n          37.68,\n          36.96\n        ],\n        \"semantic_type\": \"\",\n        \"description\": \"\"\n      }\n    },\n    {\n      \"column\": \"d6\",\n      \"properties\": {\n        \"dtype\": \"number\",\n        \"std\": 0.5312362519825488,\n        \"min\": 36.01,\n        \"max\": 37.99,\n        \"num_unique_values\": 103,\n        \"samples\": [\n          37.55,\n          36.77,\n          37.66\n        ],\n        \"semantic_type\": \"\",\n        \"description\": \"\"\n      }\n    },\n    {\n      \"column\": \"d7\",\n      \"properties\": {\n        \"dtype\": \"number\",\n        \"std\": null,\n        \"min\": null,\n        \"max\": null,\n        \"num_unique_values\": 0,\n        \"samples\": [],\n        \"semantic_type\": \"\",\n        \"description\": \"\"\n      }\n    },\n    {\n      \"column\": \"d8\",\n      \"properties\": {\n        \"dtype\": \"number\",\n        \"std\": 0.5815126101030071,\n        \"min\": 36.01,\n        \"max\": 38.0,\n        \"num_unique_values\": 103,\n        \"samples\": [],\n        \"semantic_type\": \"\",\n        \"description\": \"\"\n      }\n    },\n    {\n      \"column\": \"d9\",\n      \"properties\": {\n        \"dtype\": \"number\",\n        \"std\": 0.5659243914154081,\n        \"min\": 36.0,\n        \"max\": 37.99,\n        \"num_unique_values\": 103,\n        \"samples\": [],\n        \"semantic_type\": \"\",\n        \"description\": \"\"\n      }\n    },\n    {\n      \"column\": \"d10\",\n      \"properties\": {\n        \"dtype\": \"number\",\n        \"std\": 0.6235678662299827,\n        \"min\": 36.0,\n        \"max\": 37.98,\n        \"num_unique_values\": 109,\n        \"samples\": [],\n        \"semantic_type\": \"\",\n        \"description\": \"\"\n      }\n    }\n  ]\n}"
            }
          },
          "metadata": {},
          "execution_count": 79
        }
      ]
    },
    {
      "cell_type": "markdown",
      "source": [
        "---\n",
        "<center>\n",
        "<img src=\"https://drive.google.com/uc?id=1Siw64v_zlLaIAqtT7uxj8l9POO9C9b7j\">\n",
        "</center>"
      ],
      "metadata": {
        "id": "iMo5vc4e_Jmh"
      }
    }
  ]
}